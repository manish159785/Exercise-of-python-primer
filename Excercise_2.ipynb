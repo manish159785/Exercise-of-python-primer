{
  "nbformat": 4,
  "nbformat_minor": 0,
  "metadata": {
    "colab": {
      "provenance": []
    },
    "kernelspec": {
      "name": "python3",
      "display_name": "Python 3"
    },
    "language_info": {
      "name": "python"
    }
  },
  "cells": [
    {
      "cell_type": "markdown",
      "source": [
        "## Ex1: Participant Exercise\n",
        "\n",
        "1. Download the daily stock price of four or five randomly selected stocks. The stocks can belong to one sector.\n",
        "\n",
        "2. Find out the value at risk (Var) of each stock at 95%.\n",
        "\n",
        "3. Plot the daily gain or loss of all the stocks in one plot.\n",
        "\n",
        "4. Find out the probability of making 4% gain in each of the stock."
      ],
      "metadata": {
        "id": "9Wn8cSXV5X1e"
      }
    },
    {
      "cell_type": "markdown",
      "source": [],
      "metadata": {
        "id": "YMO7H7o-5fSP"
      }
    },
    {
      "cell_type": "markdown",
      "source": [],
      "metadata": {
        "id": "_MIKG9hB5fkE"
      }
    },
    {
      "cell_type": "code",
      "source": [
        "from google.colab import drive\n",
        "drive.mount('/content/drive')\n"
      ],
      "metadata": {
        "colab": {
          "base_uri": "https://localhost:8080/"
        },
        "id": "3B-qNBUe5apC",
        "outputId": "86676269-01ce-4c21-a518-40c8a6c99821"
      },
      "execution_count": 1,
      "outputs": [
        {
          "output_type": "stream",
          "name": "stdout",
          "text": [
            "Mounted at /content/drive\n"
          ]
        }
      ]
    },
    {
      "cell_type": "code",
      "source": [
        "import pandas as pd\n",
        "import matplotlib as mplot\n",
        "\n",
        "import matplotlib.pyplot as plt\n",
        "import seaborn as sn"
      ],
      "metadata": {
        "id": "IgolNp7IWkYj"
      },
      "execution_count": 2,
      "outputs": []
    },
    {
      "cell_type": "code",
      "source": [
        "sbi_df = pd.read_csv('/content/drive/MyDrive/Data Set/SBI.csv', parse_dates=['Date'] )"
      ],
      "metadata": {
        "id": "C30KtzRD9Upy"
      },
      "execution_count": 3,
      "outputs": []
    },
    {
      "cell_type": "code",
      "source": [
        "sbi_df = sbi_df.set_index(['Date'], drop=True)"
      ],
      "metadata": {
        "id": "iTqbdVppotwS"
      },
      "execution_count": 4,
      "outputs": []
    },
    {
      "cell_type": "code",
      "source": [
        "sbi_df.sort_index(ascending = True, inplace=True)"
      ],
      "metadata": {
        "id": "TABMLPr2pMGX"
      },
      "execution_count": 5,
      "outputs": []
    },
    {
      "cell_type": "code",
      "source": [
        "sbi_df.head()"
      ],
      "metadata": {
        "colab": {
          "base_uri": "https://localhost:8080/",
          "height": 403
        },
        "id": "5iQr7KviW3TL",
        "outputId": "6d0ea0e5-dc9e-4719-b5e3-123c6709a1dc"
      },
      "execution_count": 6,
      "outputs": [
        {
          "output_type": "execute_result",
          "data": {
            "text/plain": [
              "            Open Price  High Price  Low Price  Close Price         WAP  \\\n",
              "Date                                                                     \n",
              "2022-10-31       573.4      577.10      568.4       573.80  572.676350   \n",
              "2022-11-01       575.2      585.50      574.5       576.75  579.235853   \n",
              "2022-11-02       575.1      578.95      570.0       573.95  575.511491   \n",
              "2022-11-03       568.8      587.90      568.8       584.80  581.753779   \n",
              "2022-11-04       586.0      596.75      580.6       593.75  587.884765   \n",
              "\n",
              "            No.of Shares  No. of Trades  Total Turnover (Rs.)  \\\n",
              "Date                                                            \n",
              "2022-10-31        507867          11207             290843420   \n",
              "2022-11-01        876313          14492             507591908   \n",
              "2022-11-02        281391           5840             161943754   \n",
              "2022-11-03        777934          15403             452566044   \n",
              "2022-11-04        797243          12564             468687014   \n",
              "\n",
              "            Deliverable Quantity  % Deli. Qty to Traded Qty  Spread High-Low  \\\n",
              "Date                                                                           \n",
              "2022-10-31              194245.0                      38.25             8.70   \n",
              "2022-11-01              380241.0                      43.39            11.00   \n",
              "2022-11-02              113340.0                      40.28             8.95   \n",
              "2022-11-03              318196.0                      40.90            19.10   \n",
              "2022-11-04              282169.0                      35.39            16.15   \n",
              "\n",
              "            Spread Close-Open  \n",
              "Date                           \n",
              "2022-10-31               0.40  \n",
              "2022-11-01               1.55  \n",
              "2022-11-02              -1.15  \n",
              "2022-11-03              16.00  \n",
              "2022-11-04               7.75  "
            ],
            "text/html": [
              "\n",
              "  <div id=\"df-cd907d5b-789f-440f-b8c3-6d64a7604a84\">\n",
              "    <div class=\"colab-df-container\">\n",
              "      <div>\n",
              "<style scoped>\n",
              "    .dataframe tbody tr th:only-of-type {\n",
              "        vertical-align: middle;\n",
              "    }\n",
              "\n",
              "    .dataframe tbody tr th {\n",
              "        vertical-align: top;\n",
              "    }\n",
              "\n",
              "    .dataframe thead th {\n",
              "        text-align: right;\n",
              "    }\n",
              "</style>\n",
              "<table border=\"1\" class=\"dataframe\">\n",
              "  <thead>\n",
              "    <tr style=\"text-align: right;\">\n",
              "      <th></th>\n",
              "      <th>Open Price</th>\n",
              "      <th>High Price</th>\n",
              "      <th>Low Price</th>\n",
              "      <th>Close Price</th>\n",
              "      <th>WAP</th>\n",
              "      <th>No.of Shares</th>\n",
              "      <th>No. of Trades</th>\n",
              "      <th>Total Turnover (Rs.)</th>\n",
              "      <th>Deliverable Quantity</th>\n",
              "      <th>% Deli. Qty to Traded Qty</th>\n",
              "      <th>Spread High-Low</th>\n",
              "      <th>Spread Close-Open</th>\n",
              "    </tr>\n",
              "    <tr>\n",
              "      <th>Date</th>\n",
              "      <th></th>\n",
              "      <th></th>\n",
              "      <th></th>\n",
              "      <th></th>\n",
              "      <th></th>\n",
              "      <th></th>\n",
              "      <th></th>\n",
              "      <th></th>\n",
              "      <th></th>\n",
              "      <th></th>\n",
              "      <th></th>\n",
              "      <th></th>\n",
              "    </tr>\n",
              "  </thead>\n",
              "  <tbody>\n",
              "    <tr>\n",
              "      <th>2022-10-31</th>\n",
              "      <td>573.4</td>\n",
              "      <td>577.10</td>\n",
              "      <td>568.4</td>\n",
              "      <td>573.80</td>\n",
              "      <td>572.676350</td>\n",
              "      <td>507867</td>\n",
              "      <td>11207</td>\n",
              "      <td>290843420</td>\n",
              "      <td>194245.0</td>\n",
              "      <td>38.25</td>\n",
              "      <td>8.70</td>\n",
              "      <td>0.40</td>\n",
              "    </tr>\n",
              "    <tr>\n",
              "      <th>2022-11-01</th>\n",
              "      <td>575.2</td>\n",
              "      <td>585.50</td>\n",
              "      <td>574.5</td>\n",
              "      <td>576.75</td>\n",
              "      <td>579.235853</td>\n",
              "      <td>876313</td>\n",
              "      <td>14492</td>\n",
              "      <td>507591908</td>\n",
              "      <td>380241.0</td>\n",
              "      <td>43.39</td>\n",
              "      <td>11.00</td>\n",
              "      <td>1.55</td>\n",
              "    </tr>\n",
              "    <tr>\n",
              "      <th>2022-11-02</th>\n",
              "      <td>575.1</td>\n",
              "      <td>578.95</td>\n",
              "      <td>570.0</td>\n",
              "      <td>573.95</td>\n",
              "      <td>575.511491</td>\n",
              "      <td>281391</td>\n",
              "      <td>5840</td>\n",
              "      <td>161943754</td>\n",
              "      <td>113340.0</td>\n",
              "      <td>40.28</td>\n",
              "      <td>8.95</td>\n",
              "      <td>-1.15</td>\n",
              "    </tr>\n",
              "    <tr>\n",
              "      <th>2022-11-03</th>\n",
              "      <td>568.8</td>\n",
              "      <td>587.90</td>\n",
              "      <td>568.8</td>\n",
              "      <td>584.80</td>\n",
              "      <td>581.753779</td>\n",
              "      <td>777934</td>\n",
              "      <td>15403</td>\n",
              "      <td>452566044</td>\n",
              "      <td>318196.0</td>\n",
              "      <td>40.90</td>\n",
              "      <td>19.10</td>\n",
              "      <td>16.00</td>\n",
              "    </tr>\n",
              "    <tr>\n",
              "      <th>2022-11-04</th>\n",
              "      <td>586.0</td>\n",
              "      <td>596.75</td>\n",
              "      <td>580.6</td>\n",
              "      <td>593.75</td>\n",
              "      <td>587.884765</td>\n",
              "      <td>797243</td>\n",
              "      <td>12564</td>\n",
              "      <td>468687014</td>\n",
              "      <td>282169.0</td>\n",
              "      <td>35.39</td>\n",
              "      <td>16.15</td>\n",
              "      <td>7.75</td>\n",
              "    </tr>\n",
              "  </tbody>\n",
              "</table>\n",
              "</div>\n",
              "      <button class=\"colab-df-convert\" onclick=\"convertToInteractive('df-cd907d5b-789f-440f-b8c3-6d64a7604a84')\"\n",
              "              title=\"Convert this dataframe to an interactive table.\"\n",
              "              style=\"display:none;\">\n",
              "        \n",
              "  <svg xmlns=\"http://www.w3.org/2000/svg\" height=\"24px\"viewBox=\"0 0 24 24\"\n",
              "       width=\"24px\">\n",
              "    <path d=\"M0 0h24v24H0V0z\" fill=\"none\"/>\n",
              "    <path d=\"M18.56 5.44l.94 2.06.94-2.06 2.06-.94-2.06-.94-.94-2.06-.94 2.06-2.06.94zm-11 1L8.5 8.5l.94-2.06 2.06-.94-2.06-.94L8.5 2.5l-.94 2.06-2.06.94zm10 10l.94 2.06.94-2.06 2.06-.94-2.06-.94-.94-2.06-.94 2.06-2.06.94z\"/><path d=\"M17.41 7.96l-1.37-1.37c-.4-.4-.92-.59-1.43-.59-.52 0-1.04.2-1.43.59L10.3 9.45l-7.72 7.72c-.78.78-.78 2.05 0 2.83L4 21.41c.39.39.9.59 1.41.59.51 0 1.02-.2 1.41-.59l7.78-7.78 2.81-2.81c.8-.78.8-2.07 0-2.86zM5.41 20L4 18.59l7.72-7.72 1.47 1.35L5.41 20z\"/>\n",
              "  </svg>\n",
              "      </button>\n",
              "      \n",
              "  <style>\n",
              "    .colab-df-container {\n",
              "      display:flex;\n",
              "      flex-wrap:wrap;\n",
              "      gap: 12px;\n",
              "    }\n",
              "\n",
              "    .colab-df-convert {\n",
              "      background-color: #E8F0FE;\n",
              "      border: none;\n",
              "      border-radius: 50%;\n",
              "      cursor: pointer;\n",
              "      display: none;\n",
              "      fill: #1967D2;\n",
              "      height: 32px;\n",
              "      padding: 0 0 0 0;\n",
              "      width: 32px;\n",
              "    }\n",
              "\n",
              "    .colab-df-convert:hover {\n",
              "      background-color: #E2EBFA;\n",
              "      box-shadow: 0px 1px 2px rgba(60, 64, 67, 0.3), 0px 1px 3px 1px rgba(60, 64, 67, 0.15);\n",
              "      fill: #174EA6;\n",
              "    }\n",
              "\n",
              "    [theme=dark] .colab-df-convert {\n",
              "      background-color: #3B4455;\n",
              "      fill: #D2E3FC;\n",
              "    }\n",
              "\n",
              "    [theme=dark] .colab-df-convert:hover {\n",
              "      background-color: #434B5C;\n",
              "      box-shadow: 0px 1px 3px 1px rgba(0, 0, 0, 0.15);\n",
              "      filter: drop-shadow(0px 1px 2px rgba(0, 0, 0, 0.3));\n",
              "      fill: #FFFFFF;\n",
              "    }\n",
              "  </style>\n",
              "\n",
              "      <script>\n",
              "        const buttonEl =\n",
              "          document.querySelector('#df-cd907d5b-789f-440f-b8c3-6d64a7604a84 button.colab-df-convert');\n",
              "        buttonEl.style.display =\n",
              "          google.colab.kernel.accessAllowed ? 'block' : 'none';\n",
              "\n",
              "        async function convertToInteractive(key) {\n",
              "          const element = document.querySelector('#df-cd907d5b-789f-440f-b8c3-6d64a7604a84');\n",
              "          const dataTable =\n",
              "            await google.colab.kernel.invokeFunction('convertToInteractive',\n",
              "                                                     [key], {});\n",
              "          if (!dataTable) return;\n",
              "\n",
              "          const docLinkHtml = 'Like what you see? Visit the ' +\n",
              "            '<a target=\"_blank\" href=https://colab.research.google.com/notebooks/data_table.ipynb>data table notebook</a>'\n",
              "            + ' to learn more about interactive tables.';\n",
              "          element.innerHTML = '';\n",
              "          dataTable['output_type'] = 'display_data';\n",
              "          await google.colab.output.renderOutput(dataTable, element);\n",
              "          const docLink = document.createElement('div');\n",
              "          docLink.innerHTML = docLinkHtml;\n",
              "          element.appendChild(docLink);\n",
              "        }\n",
              "      </script>\n",
              "    </div>\n",
              "  </div>\n",
              "  "
            ]
          },
          "metadata": {},
          "execution_count": 6
        }
      ]
    },
    {
      "cell_type": "code",
      "source": [
        "sbi_df = sbi_df[['Open Price', 'Close Price' ]]"
      ],
      "metadata": {
        "id": "rajtYUAehCZ9"
      },
      "execution_count": 7,
      "outputs": []
    },
    {
      "cell_type": "code",
      "source": [
        "sbi_df['gain'] = ((sbi_df['Close Price']-sbi_df['Open Price'])*100/sbi_df['Open Price'])"
      ],
      "metadata": {
        "id": "1YwzxGv9gEFf",
        "colab": {
          "base_uri": "https://localhost:8080/"
        },
        "outputId": "c4a86d19-a3da-4513-93c2-317f5ef16b4b"
      },
      "execution_count": 8,
      "outputs": [
        {
          "output_type": "stream",
          "name": "stderr",
          "text": [
            "<ipython-input-8-61269fbe72a1>:1: SettingWithCopyWarning: \n",
            "A value is trying to be set on a copy of a slice from a DataFrame.\n",
            "Try using .loc[row_indexer,col_indexer] = value instead\n",
            "\n",
            "See the caveats in the documentation: https://pandas.pydata.org/pandas-docs/stable/user_guide/indexing.html#returning-a-view-versus-a-copy\n",
            "  sbi_df['gain'] = ((sbi_df['Close Price']-sbi_df['Open Price'])*100/sbi_df['Open Price'])\n"
          ]
        }
      ]
    },
    {
      "cell_type": "code",
      "source": [
        "sbi_df.head(10)"
      ],
      "metadata": {
        "colab": {
          "base_uri": "https://localhost:8080/",
          "height": 394
        },
        "id": "mY9diMmggegH",
        "outputId": "1d127225-02c2-45d5-fcf2-2e8c3a30a714"
      },
      "execution_count": 9,
      "outputs": [
        {
          "output_type": "execute_result",
          "data": {
            "text/plain": [
              "            Open Price  Close Price      gain\n",
              "Date                                         \n",
              "2022-10-31       573.4       573.80  0.069759\n",
              "2022-11-01       575.2       576.75  0.269471\n",
              "2022-11-02       575.1       573.95 -0.199965\n",
              "2022-11-03       568.8       584.80  2.812940\n",
              "2022-11-04       586.0       593.75  1.322526\n",
              "2022-11-07       614.0       614.20  0.032573\n",
              "2022-11-09       620.0       615.55 -0.717742\n",
              "2022-11-10       610.1       605.70 -0.721193\n",
              "2022-11-11       616.0       601.10 -2.418831\n",
              "2022-11-14       604.0       592.55 -1.895695"
            ],
            "text/html": [
              "\n",
              "  <div id=\"df-f53d1565-81a3-495e-bfc0-3cd84ad0d00b\">\n",
              "    <div class=\"colab-df-container\">\n",
              "      <div>\n",
              "<style scoped>\n",
              "    .dataframe tbody tr th:only-of-type {\n",
              "        vertical-align: middle;\n",
              "    }\n",
              "\n",
              "    .dataframe tbody tr th {\n",
              "        vertical-align: top;\n",
              "    }\n",
              "\n",
              "    .dataframe thead th {\n",
              "        text-align: right;\n",
              "    }\n",
              "</style>\n",
              "<table border=\"1\" class=\"dataframe\">\n",
              "  <thead>\n",
              "    <tr style=\"text-align: right;\">\n",
              "      <th></th>\n",
              "      <th>Open Price</th>\n",
              "      <th>Close Price</th>\n",
              "      <th>gain</th>\n",
              "    </tr>\n",
              "    <tr>\n",
              "      <th>Date</th>\n",
              "      <th></th>\n",
              "      <th></th>\n",
              "      <th></th>\n",
              "    </tr>\n",
              "  </thead>\n",
              "  <tbody>\n",
              "    <tr>\n",
              "      <th>2022-10-31</th>\n",
              "      <td>573.4</td>\n",
              "      <td>573.80</td>\n",
              "      <td>0.069759</td>\n",
              "    </tr>\n",
              "    <tr>\n",
              "      <th>2022-11-01</th>\n",
              "      <td>575.2</td>\n",
              "      <td>576.75</td>\n",
              "      <td>0.269471</td>\n",
              "    </tr>\n",
              "    <tr>\n",
              "      <th>2022-11-02</th>\n",
              "      <td>575.1</td>\n",
              "      <td>573.95</td>\n",
              "      <td>-0.199965</td>\n",
              "    </tr>\n",
              "    <tr>\n",
              "      <th>2022-11-03</th>\n",
              "      <td>568.8</td>\n",
              "      <td>584.80</td>\n",
              "      <td>2.812940</td>\n",
              "    </tr>\n",
              "    <tr>\n",
              "      <th>2022-11-04</th>\n",
              "      <td>586.0</td>\n",
              "      <td>593.75</td>\n",
              "      <td>1.322526</td>\n",
              "    </tr>\n",
              "    <tr>\n",
              "      <th>2022-11-07</th>\n",
              "      <td>614.0</td>\n",
              "      <td>614.20</td>\n",
              "      <td>0.032573</td>\n",
              "    </tr>\n",
              "    <tr>\n",
              "      <th>2022-11-09</th>\n",
              "      <td>620.0</td>\n",
              "      <td>615.55</td>\n",
              "      <td>-0.717742</td>\n",
              "    </tr>\n",
              "    <tr>\n",
              "      <th>2022-11-10</th>\n",
              "      <td>610.1</td>\n",
              "      <td>605.70</td>\n",
              "      <td>-0.721193</td>\n",
              "    </tr>\n",
              "    <tr>\n",
              "      <th>2022-11-11</th>\n",
              "      <td>616.0</td>\n",
              "      <td>601.10</td>\n",
              "      <td>-2.418831</td>\n",
              "    </tr>\n",
              "    <tr>\n",
              "      <th>2022-11-14</th>\n",
              "      <td>604.0</td>\n",
              "      <td>592.55</td>\n",
              "      <td>-1.895695</td>\n",
              "    </tr>\n",
              "  </tbody>\n",
              "</table>\n",
              "</div>\n",
              "      <button class=\"colab-df-convert\" onclick=\"convertToInteractive('df-f53d1565-81a3-495e-bfc0-3cd84ad0d00b')\"\n",
              "              title=\"Convert this dataframe to an interactive table.\"\n",
              "              style=\"display:none;\">\n",
              "        \n",
              "  <svg xmlns=\"http://www.w3.org/2000/svg\" height=\"24px\"viewBox=\"0 0 24 24\"\n",
              "       width=\"24px\">\n",
              "    <path d=\"M0 0h24v24H0V0z\" fill=\"none\"/>\n",
              "    <path d=\"M18.56 5.44l.94 2.06.94-2.06 2.06-.94-2.06-.94-.94-2.06-.94 2.06-2.06.94zm-11 1L8.5 8.5l.94-2.06 2.06-.94-2.06-.94L8.5 2.5l-.94 2.06-2.06.94zm10 10l.94 2.06.94-2.06 2.06-.94-2.06-.94-.94-2.06-.94 2.06-2.06.94z\"/><path d=\"M17.41 7.96l-1.37-1.37c-.4-.4-.92-.59-1.43-.59-.52 0-1.04.2-1.43.59L10.3 9.45l-7.72 7.72c-.78.78-.78 2.05 0 2.83L4 21.41c.39.39.9.59 1.41.59.51 0 1.02-.2 1.41-.59l7.78-7.78 2.81-2.81c.8-.78.8-2.07 0-2.86zM5.41 20L4 18.59l7.72-7.72 1.47 1.35L5.41 20z\"/>\n",
              "  </svg>\n",
              "      </button>\n",
              "      \n",
              "  <style>\n",
              "    .colab-df-container {\n",
              "      display:flex;\n",
              "      flex-wrap:wrap;\n",
              "      gap: 12px;\n",
              "    }\n",
              "\n",
              "    .colab-df-convert {\n",
              "      background-color: #E8F0FE;\n",
              "      border: none;\n",
              "      border-radius: 50%;\n",
              "      cursor: pointer;\n",
              "      display: none;\n",
              "      fill: #1967D2;\n",
              "      height: 32px;\n",
              "      padding: 0 0 0 0;\n",
              "      width: 32px;\n",
              "    }\n",
              "\n",
              "    .colab-df-convert:hover {\n",
              "      background-color: #E2EBFA;\n",
              "      box-shadow: 0px 1px 2px rgba(60, 64, 67, 0.3), 0px 1px 3px 1px rgba(60, 64, 67, 0.15);\n",
              "      fill: #174EA6;\n",
              "    }\n",
              "\n",
              "    [theme=dark] .colab-df-convert {\n",
              "      background-color: #3B4455;\n",
              "      fill: #D2E3FC;\n",
              "    }\n",
              "\n",
              "    [theme=dark] .colab-df-convert:hover {\n",
              "      background-color: #434B5C;\n",
              "      box-shadow: 0px 1px 3px 1px rgba(0, 0, 0, 0.15);\n",
              "      filter: drop-shadow(0px 1px 2px rgba(0, 0, 0, 0.3));\n",
              "      fill: #FFFFFF;\n",
              "    }\n",
              "  </style>\n",
              "\n",
              "      <script>\n",
              "        const buttonEl =\n",
              "          document.querySelector('#df-f53d1565-81a3-495e-bfc0-3cd84ad0d00b button.colab-df-convert');\n",
              "        buttonEl.style.display =\n",
              "          google.colab.kernel.accessAllowed ? 'block' : 'none';\n",
              "\n",
              "        async function convertToInteractive(key) {\n",
              "          const element = document.querySelector('#df-f53d1565-81a3-495e-bfc0-3cd84ad0d00b');\n",
              "          const dataTable =\n",
              "            await google.colab.kernel.invokeFunction('convertToInteractive',\n",
              "                                                     [key], {});\n",
              "          if (!dataTable) return;\n",
              "\n",
              "          const docLinkHtml = 'Like what you see? Visit the ' +\n",
              "            '<a target=\"_blank\" href=https://colab.research.google.com/notebooks/data_table.ipynb>data table notebook</a>'\n",
              "            + ' to learn more about interactive tables.';\n",
              "          element.innerHTML = '';\n",
              "          dataTable['output_type'] = 'display_data';\n",
              "          await google.colab.output.renderOutput(dataTable, element);\n",
              "          const docLink = document.createElement('div');\n",
              "          docLink.innerHTML = docLinkHtml;\n",
              "          element.appendChild(docLink);\n",
              "        }\n",
              "      </script>\n",
              "    </div>\n",
              "  </div>\n",
              "  "
            ]
          },
          "metadata": {},
          "execution_count": 9
        }
      ]
    },
    {
      "cell_type": "code",
      "source": [
        "from scipy import stats"
      ],
      "metadata": {
        "id": "OVVVryq5bcz9"
      },
      "execution_count": 10,
      "outputs": []
    },
    {
      "cell_type": "code",
      "source": [
        "sbi_ci_95 = stats.norm.interval(0.95,\n",
        "                                loc=sbi_df.gain.mean(),\n",
        "                                scale=sbi_df.gain.std())\n"
      ],
      "metadata": {
        "id": "tE3cEPGsXZOd"
      },
      "execution_count": 11,
      "outputs": []
    },
    {
      "cell_type": "code",
      "source": [
        "sbi_ci_95\n"
      ],
      "metadata": {
        "colab": {
          "base_uri": "https://localhost:8080/"
        },
        "id": "AIb4nuoUaJaD",
        "outputId": "786e676b-c9e1-4de5-a032-89bb9333a6ce"
      },
      "execution_count": 12,
      "outputs": [
        {
          "output_type": "execute_result",
          "data": {
            "text/plain": [
              "(-3.4053487984661164, 2.802173218810701)"
            ]
          },
          "metadata": {},
          "execution_count": 12
        }
      ]
    },
    {
      "cell_type": "code",
      "source": [
        "invest_amt = 100000"
      ],
      "metadata": {
        "id": "Ww3YMPVWaTy1"
      },
      "execution_count": 13,
      "outputs": []
    },
    {
      "cell_type": "code",
      "source": [
        "invest_amt"
      ],
      "metadata": {
        "colab": {
          "base_uri": "https://localhost:8080/"
        },
        "id": "TTDin4IfiYu7",
        "outputId": "dad891f0-8f85-41c5-bd1a-a4cabc43c274"
      },
      "execution_count": 14,
      "outputs": [
        {
          "output_type": "execute_result",
          "data": {
            "text/plain": [
              "100000"
            ]
          },
          "metadata": {},
          "execution_count": 14
        }
      ]
    },
    {
      "cell_type": "code",
      "source": [
        "sbi_ci_95[0]"
      ],
      "metadata": {
        "colab": {
          "base_uri": "https://localhost:8080/"
        },
        "id": "fSE7lFnRibkU",
        "outputId": "d5011cfe-ccbc-4162-f3ef-9c2abc252b9c"
      },
      "execution_count": 15,
      "outputs": [
        {
          "output_type": "execute_result",
          "data": {
            "text/plain": [
              "-3.4053487984661164"
            ]
          },
          "metadata": {},
          "execution_count": 15
        }
      ]
    },
    {
      "cell_type": "code",
      "source": [
        "sbi_var = invest_amt * sbi_ci_95[0] / 100"
      ],
      "metadata": {
        "id": "Tj5DyWsiiiv8"
      },
      "execution_count": 16,
      "outputs": []
    },
    {
      "cell_type": "code",
      "source": [
        "sbi_var"
      ],
      "metadata": {
        "colab": {
          "base_uri": "https://localhost:8080/"
        },
        "id": "-_pP9XBhixUm",
        "outputId": "d0e10c76-68ca-40d9-afb4-baf89359e6ee"
      },
      "execution_count": 17,
      "outputs": [
        {
          "output_type": "execute_result",
          "data": {
            "text/plain": [
              "-3405.3487984661165"
            ]
          },
          "metadata": {},
          "execution_count": 17
        }
      ]
    },
    {
      "cell_type": "markdown",
      "source": [
        "### Note:\n",
        "Value at risk for 95% CI is 3405.34 rupees, if invested one lakh rupees for day trading in sbi Bank."
      ],
      "metadata": {
        "id": "LxOnp6L1jLMf"
      }
    },
    {
      "cell_type": "code",
      "source": [
        "from google.colab import drive\n",
        "drive.mount('/content/drive')"
      ],
      "metadata": {
        "colab": {
          "base_uri": "https://localhost:8080/"
        },
        "id": "UeFLhJyhm5Bb",
        "outputId": "570e7a88-1123-4acb-cd16-283a020a5b42"
      },
      "execution_count": 18,
      "outputs": [
        {
          "output_type": "stream",
          "name": "stdout",
          "text": [
            "Drive already mounted at /content/drive; to attempt to forcibly remount, call drive.mount(\"/content/drive\", force_remount=True).\n"
          ]
        }
      ]
    },
    {
      "cell_type": "code",
      "source": [
        "pnb_df = pd.read_csv('/content/drive/MyDrive/Data Set/PNB.csv', parse_dates=['Date'])\n"
      ],
      "metadata": {
        "id": "EIxBTcMZizup"
      },
      "execution_count": 19,
      "outputs": []
    },
    {
      "cell_type": "code",
      "source": [
        "pnb_df.head(5)\n"
      ],
      "metadata": {
        "colab": {
          "base_uri": "https://localhost:8080/",
          "height": 371
        },
        "id": "AMPxuMfumZ7H",
        "outputId": "2bd409fa-2deb-4bab-9d3a-45d2ce6463f3"
      },
      "execution_count": 20,
      "outputs": [
        {
          "output_type": "execute_result",
          "data": {
            "text/plain": [
              "        Date  Open Price  High Price  Low Price  Close Price        WAP  \\\n",
              "0 2023-03-14       48.05       48.84      47.60        48.17  48.200654   \n",
              "1 2023-03-13       49.56       50.25      48.02        48.18  49.152601   \n",
              "2 2023-03-10       50.50       50.50      49.35        49.94  49.771303   \n",
              "3 2023-03-09       51.41       51.78      50.71        50.86  51.273820   \n",
              "4 2023-03-08       50.62       51.60      50.62        51.49  51.085807   \n",
              "\n",
              "   No.of Shares  No. of Trades  Total Turnover (Rs.)  Deliverable Quantity  \\\n",
              "0       5440612          12296             262241057              637148.0   \n",
              "1       4556436          12340             223960682              884690.0   \n",
              "2       1943849           4432              96747898              303643.0   \n",
              "3       2217744           4421             113712206              394928.0   \n",
              "4       2381533           3897             121662535              529510.0   \n",
              "\n",
              "   % Deli. Qty to Traded Qty  Spread High-Low  Spread Close-Open  \n",
              "0                      11.71             1.24               0.12  \n",
              "1                      19.42             2.23              -1.38  \n",
              "2                      15.62             1.15              -0.56  \n",
              "3                      17.81             1.07              -0.55  \n",
              "4                      22.23             0.98               0.87  "
            ],
            "text/html": [
              "\n",
              "  <div id=\"df-9a5eb033-6463-49b5-9e9b-ff246734a803\">\n",
              "    <div class=\"colab-df-container\">\n",
              "      <div>\n",
              "<style scoped>\n",
              "    .dataframe tbody tr th:only-of-type {\n",
              "        vertical-align: middle;\n",
              "    }\n",
              "\n",
              "    .dataframe tbody tr th {\n",
              "        vertical-align: top;\n",
              "    }\n",
              "\n",
              "    .dataframe thead th {\n",
              "        text-align: right;\n",
              "    }\n",
              "</style>\n",
              "<table border=\"1\" class=\"dataframe\">\n",
              "  <thead>\n",
              "    <tr style=\"text-align: right;\">\n",
              "      <th></th>\n",
              "      <th>Date</th>\n",
              "      <th>Open Price</th>\n",
              "      <th>High Price</th>\n",
              "      <th>Low Price</th>\n",
              "      <th>Close Price</th>\n",
              "      <th>WAP</th>\n",
              "      <th>No.of Shares</th>\n",
              "      <th>No. of Trades</th>\n",
              "      <th>Total Turnover (Rs.)</th>\n",
              "      <th>Deliverable Quantity</th>\n",
              "      <th>% Deli. Qty to Traded Qty</th>\n",
              "      <th>Spread High-Low</th>\n",
              "      <th>Spread Close-Open</th>\n",
              "    </tr>\n",
              "  </thead>\n",
              "  <tbody>\n",
              "    <tr>\n",
              "      <th>0</th>\n",
              "      <td>2023-03-14</td>\n",
              "      <td>48.05</td>\n",
              "      <td>48.84</td>\n",
              "      <td>47.60</td>\n",
              "      <td>48.17</td>\n",
              "      <td>48.200654</td>\n",
              "      <td>5440612</td>\n",
              "      <td>12296</td>\n",
              "      <td>262241057</td>\n",
              "      <td>637148.0</td>\n",
              "      <td>11.71</td>\n",
              "      <td>1.24</td>\n",
              "      <td>0.12</td>\n",
              "    </tr>\n",
              "    <tr>\n",
              "      <th>1</th>\n",
              "      <td>2023-03-13</td>\n",
              "      <td>49.56</td>\n",
              "      <td>50.25</td>\n",
              "      <td>48.02</td>\n",
              "      <td>48.18</td>\n",
              "      <td>49.152601</td>\n",
              "      <td>4556436</td>\n",
              "      <td>12340</td>\n",
              "      <td>223960682</td>\n",
              "      <td>884690.0</td>\n",
              "      <td>19.42</td>\n",
              "      <td>2.23</td>\n",
              "      <td>-1.38</td>\n",
              "    </tr>\n",
              "    <tr>\n",
              "      <th>2</th>\n",
              "      <td>2023-03-10</td>\n",
              "      <td>50.50</td>\n",
              "      <td>50.50</td>\n",
              "      <td>49.35</td>\n",
              "      <td>49.94</td>\n",
              "      <td>49.771303</td>\n",
              "      <td>1943849</td>\n",
              "      <td>4432</td>\n",
              "      <td>96747898</td>\n",
              "      <td>303643.0</td>\n",
              "      <td>15.62</td>\n",
              "      <td>1.15</td>\n",
              "      <td>-0.56</td>\n",
              "    </tr>\n",
              "    <tr>\n",
              "      <th>3</th>\n",
              "      <td>2023-03-09</td>\n",
              "      <td>51.41</td>\n",
              "      <td>51.78</td>\n",
              "      <td>50.71</td>\n",
              "      <td>50.86</td>\n",
              "      <td>51.273820</td>\n",
              "      <td>2217744</td>\n",
              "      <td>4421</td>\n",
              "      <td>113712206</td>\n",
              "      <td>394928.0</td>\n",
              "      <td>17.81</td>\n",
              "      <td>1.07</td>\n",
              "      <td>-0.55</td>\n",
              "    </tr>\n",
              "    <tr>\n",
              "      <th>4</th>\n",
              "      <td>2023-03-08</td>\n",
              "      <td>50.62</td>\n",
              "      <td>51.60</td>\n",
              "      <td>50.62</td>\n",
              "      <td>51.49</td>\n",
              "      <td>51.085807</td>\n",
              "      <td>2381533</td>\n",
              "      <td>3897</td>\n",
              "      <td>121662535</td>\n",
              "      <td>529510.0</td>\n",
              "      <td>22.23</td>\n",
              "      <td>0.98</td>\n",
              "      <td>0.87</td>\n",
              "    </tr>\n",
              "  </tbody>\n",
              "</table>\n",
              "</div>\n",
              "      <button class=\"colab-df-convert\" onclick=\"convertToInteractive('df-9a5eb033-6463-49b5-9e9b-ff246734a803')\"\n",
              "              title=\"Convert this dataframe to an interactive table.\"\n",
              "              style=\"display:none;\">\n",
              "        \n",
              "  <svg xmlns=\"http://www.w3.org/2000/svg\" height=\"24px\"viewBox=\"0 0 24 24\"\n",
              "       width=\"24px\">\n",
              "    <path d=\"M0 0h24v24H0V0z\" fill=\"none\"/>\n",
              "    <path d=\"M18.56 5.44l.94 2.06.94-2.06 2.06-.94-2.06-.94-.94-2.06-.94 2.06-2.06.94zm-11 1L8.5 8.5l.94-2.06 2.06-.94-2.06-.94L8.5 2.5l-.94 2.06-2.06.94zm10 10l.94 2.06.94-2.06 2.06-.94-2.06-.94-.94-2.06-.94 2.06-2.06.94z\"/><path d=\"M17.41 7.96l-1.37-1.37c-.4-.4-.92-.59-1.43-.59-.52 0-1.04.2-1.43.59L10.3 9.45l-7.72 7.72c-.78.78-.78 2.05 0 2.83L4 21.41c.39.39.9.59 1.41.59.51 0 1.02-.2 1.41-.59l7.78-7.78 2.81-2.81c.8-.78.8-2.07 0-2.86zM5.41 20L4 18.59l7.72-7.72 1.47 1.35L5.41 20z\"/>\n",
              "  </svg>\n",
              "      </button>\n",
              "      \n",
              "  <style>\n",
              "    .colab-df-container {\n",
              "      display:flex;\n",
              "      flex-wrap:wrap;\n",
              "      gap: 12px;\n",
              "    }\n",
              "\n",
              "    .colab-df-convert {\n",
              "      background-color: #E8F0FE;\n",
              "      border: none;\n",
              "      border-radius: 50%;\n",
              "      cursor: pointer;\n",
              "      display: none;\n",
              "      fill: #1967D2;\n",
              "      height: 32px;\n",
              "      padding: 0 0 0 0;\n",
              "      width: 32px;\n",
              "    }\n",
              "\n",
              "    .colab-df-convert:hover {\n",
              "      background-color: #E2EBFA;\n",
              "      box-shadow: 0px 1px 2px rgba(60, 64, 67, 0.3), 0px 1px 3px 1px rgba(60, 64, 67, 0.15);\n",
              "      fill: #174EA6;\n",
              "    }\n",
              "\n",
              "    [theme=dark] .colab-df-convert {\n",
              "      background-color: #3B4455;\n",
              "      fill: #D2E3FC;\n",
              "    }\n",
              "\n",
              "    [theme=dark] .colab-df-convert:hover {\n",
              "      background-color: #434B5C;\n",
              "      box-shadow: 0px 1px 3px 1px rgba(0, 0, 0, 0.15);\n",
              "      filter: drop-shadow(0px 1px 2px rgba(0, 0, 0, 0.3));\n",
              "      fill: #FFFFFF;\n",
              "    }\n",
              "  </style>\n",
              "\n",
              "      <script>\n",
              "        const buttonEl =\n",
              "          document.querySelector('#df-9a5eb033-6463-49b5-9e9b-ff246734a803 button.colab-df-convert');\n",
              "        buttonEl.style.display =\n",
              "          google.colab.kernel.accessAllowed ? 'block' : 'none';\n",
              "\n",
              "        async function convertToInteractive(key) {\n",
              "          const element = document.querySelector('#df-9a5eb033-6463-49b5-9e9b-ff246734a803');\n",
              "          const dataTable =\n",
              "            await google.colab.kernel.invokeFunction('convertToInteractive',\n",
              "                                                     [key], {});\n",
              "          if (!dataTable) return;\n",
              "\n",
              "          const docLinkHtml = 'Like what you see? Visit the ' +\n",
              "            '<a target=\"_blank\" href=https://colab.research.google.com/notebooks/data_table.ipynb>data table notebook</a>'\n",
              "            + ' to learn more about interactive tables.';\n",
              "          element.innerHTML = '';\n",
              "          dataTable['output_type'] = 'display_data';\n",
              "          await google.colab.output.renderOutput(dataTable, element);\n",
              "          const docLink = document.createElement('div');\n",
              "          docLink.innerHTML = docLinkHtml;\n",
              "          element.appendChild(docLink);\n",
              "        }\n",
              "      </script>\n",
              "    </div>\n",
              "  </div>\n",
              "  "
            ]
          },
          "metadata": {},
          "execution_count": 20
        }
      ]
    },
    {
      "cell_type": "code",
      "source": [
        "pnb_df=pnb_df.set_index(['Date'], drop =True)"
      ],
      "metadata": {
        "id": "7wOWKVREa9Pc"
      },
      "execution_count": 21,
      "outputs": []
    },
    {
      "cell_type": "code",
      "source": [
        "pnb_df.head(5)\n"
      ],
      "metadata": {
        "colab": {
          "base_uri": "https://localhost:8080/",
          "height": 403
        },
        "id": "dG_FRjRoizrl",
        "outputId": "66e483f3-6f94-42d5-e019-29baace3254d"
      },
      "execution_count": 22,
      "outputs": [
        {
          "output_type": "execute_result",
          "data": {
            "text/plain": [
              "            Open Price  High Price  Low Price  Close Price        WAP  \\\n",
              "Date                                                                    \n",
              "2023-03-14       48.05       48.84      47.60        48.17  48.200654   \n",
              "2023-03-13       49.56       50.25      48.02        48.18  49.152601   \n",
              "2023-03-10       50.50       50.50      49.35        49.94  49.771303   \n",
              "2023-03-09       51.41       51.78      50.71        50.86  51.273820   \n",
              "2023-03-08       50.62       51.60      50.62        51.49  51.085807   \n",
              "\n",
              "            No.of Shares  No. of Trades  Total Turnover (Rs.)  \\\n",
              "Date                                                            \n",
              "2023-03-14       5440612          12296             262241057   \n",
              "2023-03-13       4556436          12340             223960682   \n",
              "2023-03-10       1943849           4432              96747898   \n",
              "2023-03-09       2217744           4421             113712206   \n",
              "2023-03-08       2381533           3897             121662535   \n",
              "\n",
              "            Deliverable Quantity  % Deli. Qty to Traded Qty  Spread High-Low  \\\n",
              "Date                                                                           \n",
              "2023-03-14              637148.0                      11.71             1.24   \n",
              "2023-03-13              884690.0                      19.42             2.23   \n",
              "2023-03-10              303643.0                      15.62             1.15   \n",
              "2023-03-09              394928.0                      17.81             1.07   \n",
              "2023-03-08              529510.0                      22.23             0.98   \n",
              "\n",
              "            Spread Close-Open  \n",
              "Date                           \n",
              "2023-03-14               0.12  \n",
              "2023-03-13              -1.38  \n",
              "2023-03-10              -0.56  \n",
              "2023-03-09              -0.55  \n",
              "2023-03-08               0.87  "
            ],
            "text/html": [
              "\n",
              "  <div id=\"df-81f4c767-014a-4403-a9cd-af63c25dab34\">\n",
              "    <div class=\"colab-df-container\">\n",
              "      <div>\n",
              "<style scoped>\n",
              "    .dataframe tbody tr th:only-of-type {\n",
              "        vertical-align: middle;\n",
              "    }\n",
              "\n",
              "    .dataframe tbody tr th {\n",
              "        vertical-align: top;\n",
              "    }\n",
              "\n",
              "    .dataframe thead th {\n",
              "        text-align: right;\n",
              "    }\n",
              "</style>\n",
              "<table border=\"1\" class=\"dataframe\">\n",
              "  <thead>\n",
              "    <tr style=\"text-align: right;\">\n",
              "      <th></th>\n",
              "      <th>Open Price</th>\n",
              "      <th>High Price</th>\n",
              "      <th>Low Price</th>\n",
              "      <th>Close Price</th>\n",
              "      <th>WAP</th>\n",
              "      <th>No.of Shares</th>\n",
              "      <th>No. of Trades</th>\n",
              "      <th>Total Turnover (Rs.)</th>\n",
              "      <th>Deliverable Quantity</th>\n",
              "      <th>% Deli. Qty to Traded Qty</th>\n",
              "      <th>Spread High-Low</th>\n",
              "      <th>Spread Close-Open</th>\n",
              "    </tr>\n",
              "    <tr>\n",
              "      <th>Date</th>\n",
              "      <th></th>\n",
              "      <th></th>\n",
              "      <th></th>\n",
              "      <th></th>\n",
              "      <th></th>\n",
              "      <th></th>\n",
              "      <th></th>\n",
              "      <th></th>\n",
              "      <th></th>\n",
              "      <th></th>\n",
              "      <th></th>\n",
              "      <th></th>\n",
              "    </tr>\n",
              "  </thead>\n",
              "  <tbody>\n",
              "    <tr>\n",
              "      <th>2023-03-14</th>\n",
              "      <td>48.05</td>\n",
              "      <td>48.84</td>\n",
              "      <td>47.60</td>\n",
              "      <td>48.17</td>\n",
              "      <td>48.200654</td>\n",
              "      <td>5440612</td>\n",
              "      <td>12296</td>\n",
              "      <td>262241057</td>\n",
              "      <td>637148.0</td>\n",
              "      <td>11.71</td>\n",
              "      <td>1.24</td>\n",
              "      <td>0.12</td>\n",
              "    </tr>\n",
              "    <tr>\n",
              "      <th>2023-03-13</th>\n",
              "      <td>49.56</td>\n",
              "      <td>50.25</td>\n",
              "      <td>48.02</td>\n",
              "      <td>48.18</td>\n",
              "      <td>49.152601</td>\n",
              "      <td>4556436</td>\n",
              "      <td>12340</td>\n",
              "      <td>223960682</td>\n",
              "      <td>884690.0</td>\n",
              "      <td>19.42</td>\n",
              "      <td>2.23</td>\n",
              "      <td>-1.38</td>\n",
              "    </tr>\n",
              "    <tr>\n",
              "      <th>2023-03-10</th>\n",
              "      <td>50.50</td>\n",
              "      <td>50.50</td>\n",
              "      <td>49.35</td>\n",
              "      <td>49.94</td>\n",
              "      <td>49.771303</td>\n",
              "      <td>1943849</td>\n",
              "      <td>4432</td>\n",
              "      <td>96747898</td>\n",
              "      <td>303643.0</td>\n",
              "      <td>15.62</td>\n",
              "      <td>1.15</td>\n",
              "      <td>-0.56</td>\n",
              "    </tr>\n",
              "    <tr>\n",
              "      <th>2023-03-09</th>\n",
              "      <td>51.41</td>\n",
              "      <td>51.78</td>\n",
              "      <td>50.71</td>\n",
              "      <td>50.86</td>\n",
              "      <td>51.273820</td>\n",
              "      <td>2217744</td>\n",
              "      <td>4421</td>\n",
              "      <td>113712206</td>\n",
              "      <td>394928.0</td>\n",
              "      <td>17.81</td>\n",
              "      <td>1.07</td>\n",
              "      <td>-0.55</td>\n",
              "    </tr>\n",
              "    <tr>\n",
              "      <th>2023-03-08</th>\n",
              "      <td>50.62</td>\n",
              "      <td>51.60</td>\n",
              "      <td>50.62</td>\n",
              "      <td>51.49</td>\n",
              "      <td>51.085807</td>\n",
              "      <td>2381533</td>\n",
              "      <td>3897</td>\n",
              "      <td>121662535</td>\n",
              "      <td>529510.0</td>\n",
              "      <td>22.23</td>\n",
              "      <td>0.98</td>\n",
              "      <td>0.87</td>\n",
              "    </tr>\n",
              "  </tbody>\n",
              "</table>\n",
              "</div>\n",
              "      <button class=\"colab-df-convert\" onclick=\"convertToInteractive('df-81f4c767-014a-4403-a9cd-af63c25dab34')\"\n",
              "              title=\"Convert this dataframe to an interactive table.\"\n",
              "              style=\"display:none;\">\n",
              "        \n",
              "  <svg xmlns=\"http://www.w3.org/2000/svg\" height=\"24px\"viewBox=\"0 0 24 24\"\n",
              "       width=\"24px\">\n",
              "    <path d=\"M0 0h24v24H0V0z\" fill=\"none\"/>\n",
              "    <path d=\"M18.56 5.44l.94 2.06.94-2.06 2.06-.94-2.06-.94-.94-2.06-.94 2.06-2.06.94zm-11 1L8.5 8.5l.94-2.06 2.06-.94-2.06-.94L8.5 2.5l-.94 2.06-2.06.94zm10 10l.94 2.06.94-2.06 2.06-.94-2.06-.94-.94-2.06-.94 2.06-2.06.94z\"/><path d=\"M17.41 7.96l-1.37-1.37c-.4-.4-.92-.59-1.43-.59-.52 0-1.04.2-1.43.59L10.3 9.45l-7.72 7.72c-.78.78-.78 2.05 0 2.83L4 21.41c.39.39.9.59 1.41.59.51 0 1.02-.2 1.41-.59l7.78-7.78 2.81-2.81c.8-.78.8-2.07 0-2.86zM5.41 20L4 18.59l7.72-7.72 1.47 1.35L5.41 20z\"/>\n",
              "  </svg>\n",
              "      </button>\n",
              "      \n",
              "  <style>\n",
              "    .colab-df-container {\n",
              "      display:flex;\n",
              "      flex-wrap:wrap;\n",
              "      gap: 12px;\n",
              "    }\n",
              "\n",
              "    .colab-df-convert {\n",
              "      background-color: #E8F0FE;\n",
              "      border: none;\n",
              "      border-radius: 50%;\n",
              "      cursor: pointer;\n",
              "      display: none;\n",
              "      fill: #1967D2;\n",
              "      height: 32px;\n",
              "      padding: 0 0 0 0;\n",
              "      width: 32px;\n",
              "    }\n",
              "\n",
              "    .colab-df-convert:hover {\n",
              "      background-color: #E2EBFA;\n",
              "      box-shadow: 0px 1px 2px rgba(60, 64, 67, 0.3), 0px 1px 3px 1px rgba(60, 64, 67, 0.15);\n",
              "      fill: #174EA6;\n",
              "    }\n",
              "\n",
              "    [theme=dark] .colab-df-convert {\n",
              "      background-color: #3B4455;\n",
              "      fill: #D2E3FC;\n",
              "    }\n",
              "\n",
              "    [theme=dark] .colab-df-convert:hover {\n",
              "      background-color: #434B5C;\n",
              "      box-shadow: 0px 1px 3px 1px rgba(0, 0, 0, 0.15);\n",
              "      filter: drop-shadow(0px 1px 2px rgba(0, 0, 0, 0.3));\n",
              "      fill: #FFFFFF;\n",
              "    }\n",
              "  </style>\n",
              "\n",
              "      <script>\n",
              "        const buttonEl =\n",
              "          document.querySelector('#df-81f4c767-014a-4403-a9cd-af63c25dab34 button.colab-df-convert');\n",
              "        buttonEl.style.display =\n",
              "          google.colab.kernel.accessAllowed ? 'block' : 'none';\n",
              "\n",
              "        async function convertToInteractive(key) {\n",
              "          const element = document.querySelector('#df-81f4c767-014a-4403-a9cd-af63c25dab34');\n",
              "          const dataTable =\n",
              "            await google.colab.kernel.invokeFunction('convertToInteractive',\n",
              "                                                     [key], {});\n",
              "          if (!dataTable) return;\n",
              "\n",
              "          const docLinkHtml = 'Like what you see? Visit the ' +\n",
              "            '<a target=\"_blank\" href=https://colab.research.google.com/notebooks/data_table.ipynb>data table notebook</a>'\n",
              "            + ' to learn more about interactive tables.';\n",
              "          element.innerHTML = '';\n",
              "          dataTable['output_type'] = 'display_data';\n",
              "          await google.colab.output.renderOutput(dataTable, element);\n",
              "          const docLink = document.createElement('div');\n",
              "          docLink.innerHTML = docLinkHtml;\n",
              "          element.appendChild(docLink);\n",
              "        }\n",
              "      </script>\n",
              "    </div>\n",
              "  </div>\n",
              "  "
            ]
          },
          "metadata": {},
          "execution_count": 22
        }
      ]
    },
    {
      "cell_type": "code",
      "source": [
        "\n",
        "pnb_df.sort_index(ascending = True, inplace=True)"
      ],
      "metadata": {
        "id": "o_l2QKoqb51o"
      },
      "execution_count": 23,
      "outputs": []
    },
    {
      "cell_type": "code",
      "source": [
        "pnb_df = pnb_df[['Open Price', 'Close Price' ]]"
      ],
      "metadata": {
        "id": "lDW0w8tFljNy"
      },
      "execution_count": 24,
      "outputs": []
    },
    {
      "cell_type": "code",
      "source": [
        "pnb_df['gain'] = ((pnb_df['Close Price']-pnb_df['Open Price'])*100/pnb_df['Open Price'])"
      ],
      "metadata": {
        "id": "eHobEse7Oyq9"
      },
      "execution_count": 25,
      "outputs": []
    },
    {
      "cell_type": "code",
      "source": [
        "pnb_df.head(5)"
      ],
      "metadata": {
        "colab": {
          "base_uri": "https://localhost:8080/",
          "height": 237
        },
        "id": "RBuqQLo7lMRC",
        "outputId": "94f43c7b-24e3-4f13-a508-2d12e5892101"
      },
      "execution_count": 26,
      "outputs": [
        {
          "output_type": "execute_result",
          "data": {
            "text/plain": [
              "            Open Price  Close Price      gain\n",
              "Date                                         \n",
              "2022-10-31       43.50        42.60 -2.068966\n",
              "2022-11-01       43.15        40.10 -7.068366\n",
              "2022-11-02       39.85        39.20 -1.631117\n",
              "2022-11-03       39.00        41.30  5.897436\n",
              "2022-11-04       41.60        41.75  0.360577"
            ],
            "text/html": [
              "\n",
              "  <div id=\"df-bfe08b7f-132b-42e8-b364-6bf7708f2d5b\">\n",
              "    <div class=\"colab-df-container\">\n",
              "      <div>\n",
              "<style scoped>\n",
              "    .dataframe tbody tr th:only-of-type {\n",
              "        vertical-align: middle;\n",
              "    }\n",
              "\n",
              "    .dataframe tbody tr th {\n",
              "        vertical-align: top;\n",
              "    }\n",
              "\n",
              "    .dataframe thead th {\n",
              "        text-align: right;\n",
              "    }\n",
              "</style>\n",
              "<table border=\"1\" class=\"dataframe\">\n",
              "  <thead>\n",
              "    <tr style=\"text-align: right;\">\n",
              "      <th></th>\n",
              "      <th>Open Price</th>\n",
              "      <th>Close Price</th>\n",
              "      <th>gain</th>\n",
              "    </tr>\n",
              "    <tr>\n",
              "      <th>Date</th>\n",
              "      <th></th>\n",
              "      <th></th>\n",
              "      <th></th>\n",
              "    </tr>\n",
              "  </thead>\n",
              "  <tbody>\n",
              "    <tr>\n",
              "      <th>2022-10-31</th>\n",
              "      <td>43.50</td>\n",
              "      <td>42.60</td>\n",
              "      <td>-2.068966</td>\n",
              "    </tr>\n",
              "    <tr>\n",
              "      <th>2022-11-01</th>\n",
              "      <td>43.15</td>\n",
              "      <td>40.10</td>\n",
              "      <td>-7.068366</td>\n",
              "    </tr>\n",
              "    <tr>\n",
              "      <th>2022-11-02</th>\n",
              "      <td>39.85</td>\n",
              "      <td>39.20</td>\n",
              "      <td>-1.631117</td>\n",
              "    </tr>\n",
              "    <tr>\n",
              "      <th>2022-11-03</th>\n",
              "      <td>39.00</td>\n",
              "      <td>41.30</td>\n",
              "      <td>5.897436</td>\n",
              "    </tr>\n",
              "    <tr>\n",
              "      <th>2022-11-04</th>\n",
              "      <td>41.60</td>\n",
              "      <td>41.75</td>\n",
              "      <td>0.360577</td>\n",
              "    </tr>\n",
              "  </tbody>\n",
              "</table>\n",
              "</div>\n",
              "      <button class=\"colab-df-convert\" onclick=\"convertToInteractive('df-bfe08b7f-132b-42e8-b364-6bf7708f2d5b')\"\n",
              "              title=\"Convert this dataframe to an interactive table.\"\n",
              "              style=\"display:none;\">\n",
              "        \n",
              "  <svg xmlns=\"http://www.w3.org/2000/svg\" height=\"24px\"viewBox=\"0 0 24 24\"\n",
              "       width=\"24px\">\n",
              "    <path d=\"M0 0h24v24H0V0z\" fill=\"none\"/>\n",
              "    <path d=\"M18.56 5.44l.94 2.06.94-2.06 2.06-.94-2.06-.94-.94-2.06-.94 2.06-2.06.94zm-11 1L8.5 8.5l.94-2.06 2.06-.94-2.06-.94L8.5 2.5l-.94 2.06-2.06.94zm10 10l.94 2.06.94-2.06 2.06-.94-2.06-.94-.94-2.06-.94 2.06-2.06.94z\"/><path d=\"M17.41 7.96l-1.37-1.37c-.4-.4-.92-.59-1.43-.59-.52 0-1.04.2-1.43.59L10.3 9.45l-7.72 7.72c-.78.78-.78 2.05 0 2.83L4 21.41c.39.39.9.59 1.41.59.51 0 1.02-.2 1.41-.59l7.78-7.78 2.81-2.81c.8-.78.8-2.07 0-2.86zM5.41 20L4 18.59l7.72-7.72 1.47 1.35L5.41 20z\"/>\n",
              "  </svg>\n",
              "      </button>\n",
              "      \n",
              "  <style>\n",
              "    .colab-df-container {\n",
              "      display:flex;\n",
              "      flex-wrap:wrap;\n",
              "      gap: 12px;\n",
              "    }\n",
              "\n",
              "    .colab-df-convert {\n",
              "      background-color: #E8F0FE;\n",
              "      border: none;\n",
              "      border-radius: 50%;\n",
              "      cursor: pointer;\n",
              "      display: none;\n",
              "      fill: #1967D2;\n",
              "      height: 32px;\n",
              "      padding: 0 0 0 0;\n",
              "      width: 32px;\n",
              "    }\n",
              "\n",
              "    .colab-df-convert:hover {\n",
              "      background-color: #E2EBFA;\n",
              "      box-shadow: 0px 1px 2px rgba(60, 64, 67, 0.3), 0px 1px 3px 1px rgba(60, 64, 67, 0.15);\n",
              "      fill: #174EA6;\n",
              "    }\n",
              "\n",
              "    [theme=dark] .colab-df-convert {\n",
              "      background-color: #3B4455;\n",
              "      fill: #D2E3FC;\n",
              "    }\n",
              "\n",
              "    [theme=dark] .colab-df-convert:hover {\n",
              "      background-color: #434B5C;\n",
              "      box-shadow: 0px 1px 3px 1px rgba(0, 0, 0, 0.15);\n",
              "      filter: drop-shadow(0px 1px 2px rgba(0, 0, 0, 0.3));\n",
              "      fill: #FFFFFF;\n",
              "    }\n",
              "  </style>\n",
              "\n",
              "      <script>\n",
              "        const buttonEl =\n",
              "          document.querySelector('#df-bfe08b7f-132b-42e8-b364-6bf7708f2d5b button.colab-df-convert');\n",
              "        buttonEl.style.display =\n",
              "          google.colab.kernel.accessAllowed ? 'block' : 'none';\n",
              "\n",
              "        async function convertToInteractive(key) {\n",
              "          const element = document.querySelector('#df-bfe08b7f-132b-42e8-b364-6bf7708f2d5b');\n",
              "          const dataTable =\n",
              "            await google.colab.kernel.invokeFunction('convertToInteractive',\n",
              "                                                     [key], {});\n",
              "          if (!dataTable) return;\n",
              "\n",
              "          const docLinkHtml = 'Like what you see? Visit the ' +\n",
              "            '<a target=\"_blank\" href=https://colab.research.google.com/notebooks/data_table.ipynb>data table notebook</a>'\n",
              "            + ' to learn more about interactive tables.';\n",
              "          element.innerHTML = '';\n",
              "          dataTable['output_type'] = 'display_data';\n",
              "          await google.colab.output.renderOutput(dataTable, element);\n",
              "          const docLink = document.createElement('div');\n",
              "          docLink.innerHTML = docLinkHtml;\n",
              "          element.appendChild(docLink);\n",
              "        }\n",
              "      </script>\n",
              "    </div>\n",
              "  </div>\n",
              "  "
            ]
          },
          "metadata": {},
          "execution_count": 26
        }
      ]
    },
    {
      "cell_type": "code",
      "source": [
        "from scipy import stats"
      ],
      "metadata": {
        "id": "g3ZGWa3Ml5lu"
      },
      "execution_count": 27,
      "outputs": []
    },
    {
      "cell_type": "code",
      "source": [
        "pnb_ci_95 = stats.norm.interval(0.95,\n",
        "                                loc=pnb_df.gain.mean(),\n",
        "                                scale=pnb_df.gain.std())\n"
      ],
      "metadata": {
        "id": "MAzKJvQOkcqf"
      },
      "execution_count": 28,
      "outputs": []
    },
    {
      "cell_type": "code",
      "source": [
        "\n",
        "pnb_ci_95"
      ],
      "metadata": {
        "colab": {
          "base_uri": "https://localhost:8080/"
        },
        "id": "WtFyKloWlFwP",
        "outputId": "d5807e9d-2429-4621-c264-022e3a83c880"
      },
      "execution_count": 29,
      "outputs": [
        {
          "output_type": "execute_result",
          "data": {
            "text/plain": [
              "(-5.388692823047226, 5.263199349717164)"
            ]
          },
          "metadata": {},
          "execution_count": 29
        }
      ]
    },
    {
      "cell_type": "code",
      "source": [
        "invest_amt = 100000"
      ],
      "metadata": {
        "id": "oYJguP8KlUlh"
      },
      "execution_count": 30,
      "outputs": []
    },
    {
      "cell_type": "code",
      "source": [
        "pnb_ci_95[0]"
      ],
      "metadata": {
        "colab": {
          "base_uri": "https://localhost:8080/"
        },
        "id": "ML4pCuiHlc-q",
        "outputId": "9abda8d6-a01a-49a6-f08f-2725c855312c"
      },
      "execution_count": 31,
      "outputs": [
        {
          "output_type": "execute_result",
          "data": {
            "text/plain": [
              "-5.388692823047226"
            ]
          },
          "metadata": {},
          "execution_count": 31
        }
      ]
    },
    {
      "cell_type": "code",
      "source": [
        "pnb_var = invest_amt * pnb_ci_95[0]/100"
      ],
      "metadata": {
        "id": "t8Q-5klnluF2"
      },
      "execution_count": 32,
      "outputs": []
    },
    {
      "cell_type": "code",
      "source": [
        "pnb_var"
      ],
      "metadata": {
        "colab": {
          "base_uri": "https://localhost:8080/"
        },
        "id": "0C4a7abQl7pI",
        "outputId": "b8ecfc00-08f7-4145-e603-d1356a23c835"
      },
      "execution_count": 33,
      "outputs": [
        {
          "output_type": "execute_result",
          "data": {
            "text/plain": [
              "-5388.692823047226"
            ]
          },
          "metadata": {},
          "execution_count": 33
        }
      ]
    },
    {
      "cell_type": "markdown",
      "source": [
        "### Note:\n",
        "Value at risk for 95% CI is 5388.69 rupees, if invested one lakh rupees for day trading in pnb Bank."
      ],
      "metadata": {
        "id": "O0Ll8oK0mUXV"
      }
    },
    {
      "cell_type": "markdown",
      "source": [
        "# Canara\n"
      ],
      "metadata": {
        "id": "aGTZmMLdpe-a"
      }
    },
    {
      "cell_type": "code",
      "source": [
        "import pandas as pd\n",
        "import matplotlib as mplot\n",
        "import matplotlib.pyplot as plt\n",
        "import seaborn as sn"
      ],
      "metadata": {
        "id": "RadaWKoyp_px"
      },
      "execution_count": 34,
      "outputs": []
    },
    {
      "cell_type": "code",
      "source": [
        "canara_df = pd.read_csv('/content/drive/MyDrive/Data Set/canara.csv',\n",
        "                                                      parse_dates = ['Date'])\n"
      ],
      "metadata": {
        "id": "v4do--tXmHox"
      },
      "execution_count": 35,
      "outputs": []
    },
    {
      "cell_type": "code",
      "source": [
        "canara_df.head(10)"
      ],
      "metadata": {
        "colab": {
          "base_uri": "https://localhost:8080/",
          "height": 615
        },
        "id": "Rsy1SRxMp9_T",
        "outputId": "487d7b41-c706-4ac1-8a13-b928b0fef1dd"
      },
      "execution_count": 36,
      "outputs": [
        {
          "output_type": "execute_result",
          "data": {
            "text/plain": [
              "        Date  Open Price  High Price  Low Price  Close Price         WAP  \\\n",
              "0 2023-03-14      288.95      289.70     281.35       286.20  285.482477   \n",
              "1 2023-03-13      297.45      303.50     287.60       288.65  296.382739   \n",
              "2 2023-03-10      305.50      306.15     295.35       298.10  299.234487   \n",
              "3 2023-03-09      311.50      313.75     309.15       310.35  311.688298   \n",
              "4 2023-03-08      302.50      312.00     302.10       311.50  308.526504   \n",
              "5 2023-03-06      306.30      308.95     304.55       305.65  306.524458   \n",
              "6 2023-03-03      293.35      306.00     293.35       305.25  300.898214   \n",
              "7 2023-03-02      288.60      292.85     286.35       290.50  290.058293   \n",
              "8 2023-03-01      279.00      289.45     279.00       288.60  285.711304   \n",
              "9 2023-02-28      276.55      280.45     273.95       279.45  278.181858   \n",
              "\n",
              "   No.of Shares  No. of Trades  Total Turnover (Rs.)  Deliverable Quantity  \\\n",
              "0        588038           6530             167874545                113180   \n",
              "1        359854           3989             106654514                 56665   \n",
              "2        458141           6794             137091587                121406   \n",
              "3        312815           3919              97500775                 99881   \n",
              "4        428724           5063             132272717                161451   \n",
              "5        296983           4302              91032553                117205   \n",
              "6        843293           9505             253745358                474953   \n",
              "7        252004           3359              73095850                 56022   \n",
              "8        222514           2983              63574765                 67325   \n",
              "9        301817           4130              83960014                128115   \n",
              "\n",
              "   % Deli. Qty to Traded Qty  Spread High-Low  Spread Close-Open  \n",
              "0                      19.25             8.35              -2.75  \n",
              "1                      15.75            15.90              -8.80  \n",
              "2                      26.50            10.80              -7.40  \n",
              "3                      31.93             4.60              -1.15  \n",
              "4                      37.66             9.90               9.00  \n",
              "5                      39.47             4.40              -0.65  \n",
              "6                      56.32            12.65              11.90  \n",
              "7                      22.23             6.50               1.90  \n",
              "8                      30.26            10.45               9.60  \n",
              "9                      42.45             6.50               2.90  "
            ],
            "text/html": [
              "\n",
              "  <div id=\"df-023ef758-719c-4a28-ac59-afc0119bbed9\">\n",
              "    <div class=\"colab-df-container\">\n",
              "      <div>\n",
              "<style scoped>\n",
              "    .dataframe tbody tr th:only-of-type {\n",
              "        vertical-align: middle;\n",
              "    }\n",
              "\n",
              "    .dataframe tbody tr th {\n",
              "        vertical-align: top;\n",
              "    }\n",
              "\n",
              "    .dataframe thead th {\n",
              "        text-align: right;\n",
              "    }\n",
              "</style>\n",
              "<table border=\"1\" class=\"dataframe\">\n",
              "  <thead>\n",
              "    <tr style=\"text-align: right;\">\n",
              "      <th></th>\n",
              "      <th>Date</th>\n",
              "      <th>Open Price</th>\n",
              "      <th>High Price</th>\n",
              "      <th>Low Price</th>\n",
              "      <th>Close Price</th>\n",
              "      <th>WAP</th>\n",
              "      <th>No.of Shares</th>\n",
              "      <th>No. of Trades</th>\n",
              "      <th>Total Turnover (Rs.)</th>\n",
              "      <th>Deliverable Quantity</th>\n",
              "      <th>% Deli. Qty to Traded Qty</th>\n",
              "      <th>Spread High-Low</th>\n",
              "      <th>Spread Close-Open</th>\n",
              "    </tr>\n",
              "  </thead>\n",
              "  <tbody>\n",
              "    <tr>\n",
              "      <th>0</th>\n",
              "      <td>2023-03-14</td>\n",
              "      <td>288.95</td>\n",
              "      <td>289.70</td>\n",
              "      <td>281.35</td>\n",
              "      <td>286.20</td>\n",
              "      <td>285.482477</td>\n",
              "      <td>588038</td>\n",
              "      <td>6530</td>\n",
              "      <td>167874545</td>\n",
              "      <td>113180</td>\n",
              "      <td>19.25</td>\n",
              "      <td>8.35</td>\n",
              "      <td>-2.75</td>\n",
              "    </tr>\n",
              "    <tr>\n",
              "      <th>1</th>\n",
              "      <td>2023-03-13</td>\n",
              "      <td>297.45</td>\n",
              "      <td>303.50</td>\n",
              "      <td>287.60</td>\n",
              "      <td>288.65</td>\n",
              "      <td>296.382739</td>\n",
              "      <td>359854</td>\n",
              "      <td>3989</td>\n",
              "      <td>106654514</td>\n",
              "      <td>56665</td>\n",
              "      <td>15.75</td>\n",
              "      <td>15.90</td>\n",
              "      <td>-8.80</td>\n",
              "    </tr>\n",
              "    <tr>\n",
              "      <th>2</th>\n",
              "      <td>2023-03-10</td>\n",
              "      <td>305.50</td>\n",
              "      <td>306.15</td>\n",
              "      <td>295.35</td>\n",
              "      <td>298.10</td>\n",
              "      <td>299.234487</td>\n",
              "      <td>458141</td>\n",
              "      <td>6794</td>\n",
              "      <td>137091587</td>\n",
              "      <td>121406</td>\n",
              "      <td>26.50</td>\n",
              "      <td>10.80</td>\n",
              "      <td>-7.40</td>\n",
              "    </tr>\n",
              "    <tr>\n",
              "      <th>3</th>\n",
              "      <td>2023-03-09</td>\n",
              "      <td>311.50</td>\n",
              "      <td>313.75</td>\n",
              "      <td>309.15</td>\n",
              "      <td>310.35</td>\n",
              "      <td>311.688298</td>\n",
              "      <td>312815</td>\n",
              "      <td>3919</td>\n",
              "      <td>97500775</td>\n",
              "      <td>99881</td>\n",
              "      <td>31.93</td>\n",
              "      <td>4.60</td>\n",
              "      <td>-1.15</td>\n",
              "    </tr>\n",
              "    <tr>\n",
              "      <th>4</th>\n",
              "      <td>2023-03-08</td>\n",
              "      <td>302.50</td>\n",
              "      <td>312.00</td>\n",
              "      <td>302.10</td>\n",
              "      <td>311.50</td>\n",
              "      <td>308.526504</td>\n",
              "      <td>428724</td>\n",
              "      <td>5063</td>\n",
              "      <td>132272717</td>\n",
              "      <td>161451</td>\n",
              "      <td>37.66</td>\n",
              "      <td>9.90</td>\n",
              "      <td>9.00</td>\n",
              "    </tr>\n",
              "    <tr>\n",
              "      <th>5</th>\n",
              "      <td>2023-03-06</td>\n",
              "      <td>306.30</td>\n",
              "      <td>308.95</td>\n",
              "      <td>304.55</td>\n",
              "      <td>305.65</td>\n",
              "      <td>306.524458</td>\n",
              "      <td>296983</td>\n",
              "      <td>4302</td>\n",
              "      <td>91032553</td>\n",
              "      <td>117205</td>\n",
              "      <td>39.47</td>\n",
              "      <td>4.40</td>\n",
              "      <td>-0.65</td>\n",
              "    </tr>\n",
              "    <tr>\n",
              "      <th>6</th>\n",
              "      <td>2023-03-03</td>\n",
              "      <td>293.35</td>\n",
              "      <td>306.00</td>\n",
              "      <td>293.35</td>\n",
              "      <td>305.25</td>\n",
              "      <td>300.898214</td>\n",
              "      <td>843293</td>\n",
              "      <td>9505</td>\n",
              "      <td>253745358</td>\n",
              "      <td>474953</td>\n",
              "      <td>56.32</td>\n",
              "      <td>12.65</td>\n",
              "      <td>11.90</td>\n",
              "    </tr>\n",
              "    <tr>\n",
              "      <th>7</th>\n",
              "      <td>2023-03-02</td>\n",
              "      <td>288.60</td>\n",
              "      <td>292.85</td>\n",
              "      <td>286.35</td>\n",
              "      <td>290.50</td>\n",
              "      <td>290.058293</td>\n",
              "      <td>252004</td>\n",
              "      <td>3359</td>\n",
              "      <td>73095850</td>\n",
              "      <td>56022</td>\n",
              "      <td>22.23</td>\n",
              "      <td>6.50</td>\n",
              "      <td>1.90</td>\n",
              "    </tr>\n",
              "    <tr>\n",
              "      <th>8</th>\n",
              "      <td>2023-03-01</td>\n",
              "      <td>279.00</td>\n",
              "      <td>289.45</td>\n",
              "      <td>279.00</td>\n",
              "      <td>288.60</td>\n",
              "      <td>285.711304</td>\n",
              "      <td>222514</td>\n",
              "      <td>2983</td>\n",
              "      <td>63574765</td>\n",
              "      <td>67325</td>\n",
              "      <td>30.26</td>\n",
              "      <td>10.45</td>\n",
              "      <td>9.60</td>\n",
              "    </tr>\n",
              "    <tr>\n",
              "      <th>9</th>\n",
              "      <td>2023-02-28</td>\n",
              "      <td>276.55</td>\n",
              "      <td>280.45</td>\n",
              "      <td>273.95</td>\n",
              "      <td>279.45</td>\n",
              "      <td>278.181858</td>\n",
              "      <td>301817</td>\n",
              "      <td>4130</td>\n",
              "      <td>83960014</td>\n",
              "      <td>128115</td>\n",
              "      <td>42.45</td>\n",
              "      <td>6.50</td>\n",
              "      <td>2.90</td>\n",
              "    </tr>\n",
              "  </tbody>\n",
              "</table>\n",
              "</div>\n",
              "      <button class=\"colab-df-convert\" onclick=\"convertToInteractive('df-023ef758-719c-4a28-ac59-afc0119bbed9')\"\n",
              "              title=\"Convert this dataframe to an interactive table.\"\n",
              "              style=\"display:none;\">\n",
              "        \n",
              "  <svg xmlns=\"http://www.w3.org/2000/svg\" height=\"24px\"viewBox=\"0 0 24 24\"\n",
              "       width=\"24px\">\n",
              "    <path d=\"M0 0h24v24H0V0z\" fill=\"none\"/>\n",
              "    <path d=\"M18.56 5.44l.94 2.06.94-2.06 2.06-.94-2.06-.94-.94-2.06-.94 2.06-2.06.94zm-11 1L8.5 8.5l.94-2.06 2.06-.94-2.06-.94L8.5 2.5l-.94 2.06-2.06.94zm10 10l.94 2.06.94-2.06 2.06-.94-2.06-.94-.94-2.06-.94 2.06-2.06.94z\"/><path d=\"M17.41 7.96l-1.37-1.37c-.4-.4-.92-.59-1.43-.59-.52 0-1.04.2-1.43.59L10.3 9.45l-7.72 7.72c-.78.78-.78 2.05 0 2.83L4 21.41c.39.39.9.59 1.41.59.51 0 1.02-.2 1.41-.59l7.78-7.78 2.81-2.81c.8-.78.8-2.07 0-2.86zM5.41 20L4 18.59l7.72-7.72 1.47 1.35L5.41 20z\"/>\n",
              "  </svg>\n",
              "      </button>\n",
              "      \n",
              "  <style>\n",
              "    .colab-df-container {\n",
              "      display:flex;\n",
              "      flex-wrap:wrap;\n",
              "      gap: 12px;\n",
              "    }\n",
              "\n",
              "    .colab-df-convert {\n",
              "      background-color: #E8F0FE;\n",
              "      border: none;\n",
              "      border-radius: 50%;\n",
              "      cursor: pointer;\n",
              "      display: none;\n",
              "      fill: #1967D2;\n",
              "      height: 32px;\n",
              "      padding: 0 0 0 0;\n",
              "      width: 32px;\n",
              "    }\n",
              "\n",
              "    .colab-df-convert:hover {\n",
              "      background-color: #E2EBFA;\n",
              "      box-shadow: 0px 1px 2px rgba(60, 64, 67, 0.3), 0px 1px 3px 1px rgba(60, 64, 67, 0.15);\n",
              "      fill: #174EA6;\n",
              "    }\n",
              "\n",
              "    [theme=dark] .colab-df-convert {\n",
              "      background-color: #3B4455;\n",
              "      fill: #D2E3FC;\n",
              "    }\n",
              "\n",
              "    [theme=dark] .colab-df-convert:hover {\n",
              "      background-color: #434B5C;\n",
              "      box-shadow: 0px 1px 3px 1px rgba(0, 0, 0, 0.15);\n",
              "      filter: drop-shadow(0px 1px 2px rgba(0, 0, 0, 0.3));\n",
              "      fill: #FFFFFF;\n",
              "    }\n",
              "  </style>\n",
              "\n",
              "      <script>\n",
              "        const buttonEl =\n",
              "          document.querySelector('#df-023ef758-719c-4a28-ac59-afc0119bbed9 button.colab-df-convert');\n",
              "        buttonEl.style.display =\n",
              "          google.colab.kernel.accessAllowed ? 'block' : 'none';\n",
              "\n",
              "        async function convertToInteractive(key) {\n",
              "          const element = document.querySelector('#df-023ef758-719c-4a28-ac59-afc0119bbed9');\n",
              "          const dataTable =\n",
              "            await google.colab.kernel.invokeFunction('convertToInteractive',\n",
              "                                                     [key], {});\n",
              "          if (!dataTable) return;\n",
              "\n",
              "          const docLinkHtml = 'Like what you see? Visit the ' +\n",
              "            '<a target=\"_blank\" href=https://colab.research.google.com/notebooks/data_table.ipynb>data table notebook</a>'\n",
              "            + ' to learn more about interactive tables.';\n",
              "          element.innerHTML = '';\n",
              "          dataTable['output_type'] = 'display_data';\n",
              "          await google.colab.output.renderOutput(dataTable, element);\n",
              "          const docLink = document.createElement('div');\n",
              "          docLink.innerHTML = docLinkHtml;\n",
              "          element.appendChild(docLink);\n",
              "        }\n",
              "      </script>\n",
              "    </div>\n",
              "  </div>\n",
              "  "
            ]
          },
          "metadata": {},
          "execution_count": 36
        }
      ]
    },
    {
      "cell_type": "code",
      "source": [
        "canara_df = canara_df.set_index(['Date'], drop = True)"
      ],
      "metadata": {
        "id": "Q2_-6zwbp2YM"
      },
      "execution_count": 37,
      "outputs": []
    },
    {
      "cell_type": "code",
      "source": [
        "canara_df.head(5)"
      ],
      "metadata": {
        "colab": {
          "base_uri": "https://localhost:8080/",
          "height": 403
        },
        "id": "wbK6WU5VqooR",
        "outputId": "5ac10a7b-4099-4b20-88bb-0b1aeacbe826"
      },
      "execution_count": 38,
      "outputs": [
        {
          "output_type": "execute_result",
          "data": {
            "text/plain": [
              "            Open Price  High Price  Low Price  Close Price         WAP  \\\n",
              "Date                                                                     \n",
              "2023-03-14      288.95      289.70     281.35       286.20  285.482477   \n",
              "2023-03-13      297.45      303.50     287.60       288.65  296.382739   \n",
              "2023-03-10      305.50      306.15     295.35       298.10  299.234487   \n",
              "2023-03-09      311.50      313.75     309.15       310.35  311.688298   \n",
              "2023-03-08      302.50      312.00     302.10       311.50  308.526504   \n",
              "\n",
              "            No.of Shares  No. of Trades  Total Turnover (Rs.)  \\\n",
              "Date                                                            \n",
              "2023-03-14        588038           6530             167874545   \n",
              "2023-03-13        359854           3989             106654514   \n",
              "2023-03-10        458141           6794             137091587   \n",
              "2023-03-09        312815           3919              97500775   \n",
              "2023-03-08        428724           5063             132272717   \n",
              "\n",
              "            Deliverable Quantity  % Deli. Qty to Traded Qty  Spread High-Low  \\\n",
              "Date                                                                           \n",
              "2023-03-14                113180                      19.25             8.35   \n",
              "2023-03-13                 56665                      15.75            15.90   \n",
              "2023-03-10                121406                      26.50            10.80   \n",
              "2023-03-09                 99881                      31.93             4.60   \n",
              "2023-03-08                161451                      37.66             9.90   \n",
              "\n",
              "            Spread Close-Open  \n",
              "Date                           \n",
              "2023-03-14              -2.75  \n",
              "2023-03-13              -8.80  \n",
              "2023-03-10              -7.40  \n",
              "2023-03-09              -1.15  \n",
              "2023-03-08               9.00  "
            ],
            "text/html": [
              "\n",
              "  <div id=\"df-e8e5149c-59d5-4e8a-9054-86ad49bbeb2b\">\n",
              "    <div class=\"colab-df-container\">\n",
              "      <div>\n",
              "<style scoped>\n",
              "    .dataframe tbody tr th:only-of-type {\n",
              "        vertical-align: middle;\n",
              "    }\n",
              "\n",
              "    .dataframe tbody tr th {\n",
              "        vertical-align: top;\n",
              "    }\n",
              "\n",
              "    .dataframe thead th {\n",
              "        text-align: right;\n",
              "    }\n",
              "</style>\n",
              "<table border=\"1\" class=\"dataframe\">\n",
              "  <thead>\n",
              "    <tr style=\"text-align: right;\">\n",
              "      <th></th>\n",
              "      <th>Open Price</th>\n",
              "      <th>High Price</th>\n",
              "      <th>Low Price</th>\n",
              "      <th>Close Price</th>\n",
              "      <th>WAP</th>\n",
              "      <th>No.of Shares</th>\n",
              "      <th>No. of Trades</th>\n",
              "      <th>Total Turnover (Rs.)</th>\n",
              "      <th>Deliverable Quantity</th>\n",
              "      <th>% Deli. Qty to Traded Qty</th>\n",
              "      <th>Spread High-Low</th>\n",
              "      <th>Spread Close-Open</th>\n",
              "    </tr>\n",
              "    <tr>\n",
              "      <th>Date</th>\n",
              "      <th></th>\n",
              "      <th></th>\n",
              "      <th></th>\n",
              "      <th></th>\n",
              "      <th></th>\n",
              "      <th></th>\n",
              "      <th></th>\n",
              "      <th></th>\n",
              "      <th></th>\n",
              "      <th></th>\n",
              "      <th></th>\n",
              "      <th></th>\n",
              "    </tr>\n",
              "  </thead>\n",
              "  <tbody>\n",
              "    <tr>\n",
              "      <th>2023-03-14</th>\n",
              "      <td>288.95</td>\n",
              "      <td>289.70</td>\n",
              "      <td>281.35</td>\n",
              "      <td>286.20</td>\n",
              "      <td>285.482477</td>\n",
              "      <td>588038</td>\n",
              "      <td>6530</td>\n",
              "      <td>167874545</td>\n",
              "      <td>113180</td>\n",
              "      <td>19.25</td>\n",
              "      <td>8.35</td>\n",
              "      <td>-2.75</td>\n",
              "    </tr>\n",
              "    <tr>\n",
              "      <th>2023-03-13</th>\n",
              "      <td>297.45</td>\n",
              "      <td>303.50</td>\n",
              "      <td>287.60</td>\n",
              "      <td>288.65</td>\n",
              "      <td>296.382739</td>\n",
              "      <td>359854</td>\n",
              "      <td>3989</td>\n",
              "      <td>106654514</td>\n",
              "      <td>56665</td>\n",
              "      <td>15.75</td>\n",
              "      <td>15.90</td>\n",
              "      <td>-8.80</td>\n",
              "    </tr>\n",
              "    <tr>\n",
              "      <th>2023-03-10</th>\n",
              "      <td>305.50</td>\n",
              "      <td>306.15</td>\n",
              "      <td>295.35</td>\n",
              "      <td>298.10</td>\n",
              "      <td>299.234487</td>\n",
              "      <td>458141</td>\n",
              "      <td>6794</td>\n",
              "      <td>137091587</td>\n",
              "      <td>121406</td>\n",
              "      <td>26.50</td>\n",
              "      <td>10.80</td>\n",
              "      <td>-7.40</td>\n",
              "    </tr>\n",
              "    <tr>\n",
              "      <th>2023-03-09</th>\n",
              "      <td>311.50</td>\n",
              "      <td>313.75</td>\n",
              "      <td>309.15</td>\n",
              "      <td>310.35</td>\n",
              "      <td>311.688298</td>\n",
              "      <td>312815</td>\n",
              "      <td>3919</td>\n",
              "      <td>97500775</td>\n",
              "      <td>99881</td>\n",
              "      <td>31.93</td>\n",
              "      <td>4.60</td>\n",
              "      <td>-1.15</td>\n",
              "    </tr>\n",
              "    <tr>\n",
              "      <th>2023-03-08</th>\n",
              "      <td>302.50</td>\n",
              "      <td>312.00</td>\n",
              "      <td>302.10</td>\n",
              "      <td>311.50</td>\n",
              "      <td>308.526504</td>\n",
              "      <td>428724</td>\n",
              "      <td>5063</td>\n",
              "      <td>132272717</td>\n",
              "      <td>161451</td>\n",
              "      <td>37.66</td>\n",
              "      <td>9.90</td>\n",
              "      <td>9.00</td>\n",
              "    </tr>\n",
              "  </tbody>\n",
              "</table>\n",
              "</div>\n",
              "      <button class=\"colab-df-convert\" onclick=\"convertToInteractive('df-e8e5149c-59d5-4e8a-9054-86ad49bbeb2b')\"\n",
              "              title=\"Convert this dataframe to an interactive table.\"\n",
              "              style=\"display:none;\">\n",
              "        \n",
              "  <svg xmlns=\"http://www.w3.org/2000/svg\" height=\"24px\"viewBox=\"0 0 24 24\"\n",
              "       width=\"24px\">\n",
              "    <path d=\"M0 0h24v24H0V0z\" fill=\"none\"/>\n",
              "    <path d=\"M18.56 5.44l.94 2.06.94-2.06 2.06-.94-2.06-.94-.94-2.06-.94 2.06-2.06.94zm-11 1L8.5 8.5l.94-2.06 2.06-.94-2.06-.94L8.5 2.5l-.94 2.06-2.06.94zm10 10l.94 2.06.94-2.06 2.06-.94-2.06-.94-.94-2.06-.94 2.06-2.06.94z\"/><path d=\"M17.41 7.96l-1.37-1.37c-.4-.4-.92-.59-1.43-.59-.52 0-1.04.2-1.43.59L10.3 9.45l-7.72 7.72c-.78.78-.78 2.05 0 2.83L4 21.41c.39.39.9.59 1.41.59.51 0 1.02-.2 1.41-.59l7.78-7.78 2.81-2.81c.8-.78.8-2.07 0-2.86zM5.41 20L4 18.59l7.72-7.72 1.47 1.35L5.41 20z\"/>\n",
              "  </svg>\n",
              "      </button>\n",
              "      \n",
              "  <style>\n",
              "    .colab-df-container {\n",
              "      display:flex;\n",
              "      flex-wrap:wrap;\n",
              "      gap: 12px;\n",
              "    }\n",
              "\n",
              "    .colab-df-convert {\n",
              "      background-color: #E8F0FE;\n",
              "      border: none;\n",
              "      border-radius: 50%;\n",
              "      cursor: pointer;\n",
              "      display: none;\n",
              "      fill: #1967D2;\n",
              "      height: 32px;\n",
              "      padding: 0 0 0 0;\n",
              "      width: 32px;\n",
              "    }\n",
              "\n",
              "    .colab-df-convert:hover {\n",
              "      background-color: #E2EBFA;\n",
              "      box-shadow: 0px 1px 2px rgba(60, 64, 67, 0.3), 0px 1px 3px 1px rgba(60, 64, 67, 0.15);\n",
              "      fill: #174EA6;\n",
              "    }\n",
              "\n",
              "    [theme=dark] .colab-df-convert {\n",
              "      background-color: #3B4455;\n",
              "      fill: #D2E3FC;\n",
              "    }\n",
              "\n",
              "    [theme=dark] .colab-df-convert:hover {\n",
              "      background-color: #434B5C;\n",
              "      box-shadow: 0px 1px 3px 1px rgba(0, 0, 0, 0.15);\n",
              "      filter: drop-shadow(0px 1px 2px rgba(0, 0, 0, 0.3));\n",
              "      fill: #FFFFFF;\n",
              "    }\n",
              "  </style>\n",
              "\n",
              "      <script>\n",
              "        const buttonEl =\n",
              "          document.querySelector('#df-e8e5149c-59d5-4e8a-9054-86ad49bbeb2b button.colab-df-convert');\n",
              "        buttonEl.style.display =\n",
              "          google.colab.kernel.accessAllowed ? 'block' : 'none';\n",
              "\n",
              "        async function convertToInteractive(key) {\n",
              "          const element = document.querySelector('#df-e8e5149c-59d5-4e8a-9054-86ad49bbeb2b');\n",
              "          const dataTable =\n",
              "            await google.colab.kernel.invokeFunction('convertToInteractive',\n",
              "                                                     [key], {});\n",
              "          if (!dataTable) return;\n",
              "\n",
              "          const docLinkHtml = 'Like what you see? Visit the ' +\n",
              "            '<a target=\"_blank\" href=https://colab.research.google.com/notebooks/data_table.ipynb>data table notebook</a>'\n",
              "            + ' to learn more about interactive tables.';\n",
              "          element.innerHTML = '';\n",
              "          dataTable['output_type'] = 'display_data';\n",
              "          await google.colab.output.renderOutput(dataTable, element);\n",
              "          const docLink = document.createElement('div');\n",
              "          docLink.innerHTML = docLinkHtml;\n",
              "          element.appendChild(docLink);\n",
              "        }\n",
              "      </script>\n",
              "    </div>\n",
              "  </div>\n",
              "  "
            ]
          },
          "metadata": {},
          "execution_count": 38
        }
      ]
    },
    {
      "cell_type": "code",
      "source": [
        "canara_df = canara_df[['Close Price','Open Price']]"
      ],
      "metadata": {
        "id": "HFqJISMTq928"
      },
      "execution_count": 39,
      "outputs": []
    },
    {
      "cell_type": "code",
      "source": [
        "canara_df.head(5)"
      ],
      "metadata": {
        "colab": {
          "base_uri": "https://localhost:8080/",
          "height": 237
        },
        "id": "q1XlL_lYrQuP",
        "outputId": "0d55e066-2220-408d-a67d-df1b00464683"
      },
      "execution_count": 40,
      "outputs": [
        {
          "output_type": "execute_result",
          "data": {
            "text/plain": [
              "            Close Price  Open Price\n",
              "Date                               \n",
              "2023-03-14       286.20      288.95\n",
              "2023-03-13       288.65      297.45\n",
              "2023-03-10       298.10      305.50\n",
              "2023-03-09       310.35      311.50\n",
              "2023-03-08       311.50      302.50"
            ],
            "text/html": [
              "\n",
              "  <div id=\"df-f0b45c9d-9805-43cc-94db-9b69cedc7449\">\n",
              "    <div class=\"colab-df-container\">\n",
              "      <div>\n",
              "<style scoped>\n",
              "    .dataframe tbody tr th:only-of-type {\n",
              "        vertical-align: middle;\n",
              "    }\n",
              "\n",
              "    .dataframe tbody tr th {\n",
              "        vertical-align: top;\n",
              "    }\n",
              "\n",
              "    .dataframe thead th {\n",
              "        text-align: right;\n",
              "    }\n",
              "</style>\n",
              "<table border=\"1\" class=\"dataframe\">\n",
              "  <thead>\n",
              "    <tr style=\"text-align: right;\">\n",
              "      <th></th>\n",
              "      <th>Close Price</th>\n",
              "      <th>Open Price</th>\n",
              "    </tr>\n",
              "    <tr>\n",
              "      <th>Date</th>\n",
              "      <th></th>\n",
              "      <th></th>\n",
              "    </tr>\n",
              "  </thead>\n",
              "  <tbody>\n",
              "    <tr>\n",
              "      <th>2023-03-14</th>\n",
              "      <td>286.20</td>\n",
              "      <td>288.95</td>\n",
              "    </tr>\n",
              "    <tr>\n",
              "      <th>2023-03-13</th>\n",
              "      <td>288.65</td>\n",
              "      <td>297.45</td>\n",
              "    </tr>\n",
              "    <tr>\n",
              "      <th>2023-03-10</th>\n",
              "      <td>298.10</td>\n",
              "      <td>305.50</td>\n",
              "    </tr>\n",
              "    <tr>\n",
              "      <th>2023-03-09</th>\n",
              "      <td>310.35</td>\n",
              "      <td>311.50</td>\n",
              "    </tr>\n",
              "    <tr>\n",
              "      <th>2023-03-08</th>\n",
              "      <td>311.50</td>\n",
              "      <td>302.50</td>\n",
              "    </tr>\n",
              "  </tbody>\n",
              "</table>\n",
              "</div>\n",
              "      <button class=\"colab-df-convert\" onclick=\"convertToInteractive('df-f0b45c9d-9805-43cc-94db-9b69cedc7449')\"\n",
              "              title=\"Convert this dataframe to an interactive table.\"\n",
              "              style=\"display:none;\">\n",
              "        \n",
              "  <svg xmlns=\"http://www.w3.org/2000/svg\" height=\"24px\"viewBox=\"0 0 24 24\"\n",
              "       width=\"24px\">\n",
              "    <path d=\"M0 0h24v24H0V0z\" fill=\"none\"/>\n",
              "    <path d=\"M18.56 5.44l.94 2.06.94-2.06 2.06-.94-2.06-.94-.94-2.06-.94 2.06-2.06.94zm-11 1L8.5 8.5l.94-2.06 2.06-.94-2.06-.94L8.5 2.5l-.94 2.06-2.06.94zm10 10l.94 2.06.94-2.06 2.06-.94-2.06-.94-.94-2.06-.94 2.06-2.06.94z\"/><path d=\"M17.41 7.96l-1.37-1.37c-.4-.4-.92-.59-1.43-.59-.52 0-1.04.2-1.43.59L10.3 9.45l-7.72 7.72c-.78.78-.78 2.05 0 2.83L4 21.41c.39.39.9.59 1.41.59.51 0 1.02-.2 1.41-.59l7.78-7.78 2.81-2.81c.8-.78.8-2.07 0-2.86zM5.41 20L4 18.59l7.72-7.72 1.47 1.35L5.41 20z\"/>\n",
              "  </svg>\n",
              "      </button>\n",
              "      \n",
              "  <style>\n",
              "    .colab-df-container {\n",
              "      display:flex;\n",
              "      flex-wrap:wrap;\n",
              "      gap: 12px;\n",
              "    }\n",
              "\n",
              "    .colab-df-convert {\n",
              "      background-color: #E8F0FE;\n",
              "      border: none;\n",
              "      border-radius: 50%;\n",
              "      cursor: pointer;\n",
              "      display: none;\n",
              "      fill: #1967D2;\n",
              "      height: 32px;\n",
              "      padding: 0 0 0 0;\n",
              "      width: 32px;\n",
              "    }\n",
              "\n",
              "    .colab-df-convert:hover {\n",
              "      background-color: #E2EBFA;\n",
              "      box-shadow: 0px 1px 2px rgba(60, 64, 67, 0.3), 0px 1px 3px 1px rgba(60, 64, 67, 0.15);\n",
              "      fill: #174EA6;\n",
              "    }\n",
              "\n",
              "    [theme=dark] .colab-df-convert {\n",
              "      background-color: #3B4455;\n",
              "      fill: #D2E3FC;\n",
              "    }\n",
              "\n",
              "    [theme=dark] .colab-df-convert:hover {\n",
              "      background-color: #434B5C;\n",
              "      box-shadow: 0px 1px 3px 1px rgba(0, 0, 0, 0.15);\n",
              "      filter: drop-shadow(0px 1px 2px rgba(0, 0, 0, 0.3));\n",
              "      fill: #FFFFFF;\n",
              "    }\n",
              "  </style>\n",
              "\n",
              "      <script>\n",
              "        const buttonEl =\n",
              "          document.querySelector('#df-f0b45c9d-9805-43cc-94db-9b69cedc7449 button.colab-df-convert');\n",
              "        buttonEl.style.display =\n",
              "          google.colab.kernel.accessAllowed ? 'block' : 'none';\n",
              "\n",
              "        async function convertToInteractive(key) {\n",
              "          const element = document.querySelector('#df-f0b45c9d-9805-43cc-94db-9b69cedc7449');\n",
              "          const dataTable =\n",
              "            await google.colab.kernel.invokeFunction('convertToInteractive',\n",
              "                                                     [key], {});\n",
              "          if (!dataTable) return;\n",
              "\n",
              "          const docLinkHtml = 'Like what you see? Visit the ' +\n",
              "            '<a target=\"_blank\" href=https://colab.research.google.com/notebooks/data_table.ipynb>data table notebook</a>'\n",
              "            + ' to learn more about interactive tables.';\n",
              "          element.innerHTML = '';\n",
              "          dataTable['output_type'] = 'display_data';\n",
              "          await google.colab.output.renderOutput(dataTable, element);\n",
              "          const docLink = document.createElement('div');\n",
              "          docLink.innerHTML = docLinkHtml;\n",
              "          element.appendChild(docLink);\n",
              "        }\n",
              "      </script>\n",
              "    </div>\n",
              "  </div>\n",
              "  "
            ]
          },
          "metadata": {},
          "execution_count": 40
        }
      ]
    },
    {
      "cell_type": "code",
      "source": [
        "canara_df['gain'] = ((canara_df['Close Price']-canara_df['Open Price'])*100/(canara_df['Open Price']))"
      ],
      "metadata": {
        "id": "_lpBDruarWGL",
        "colab": {
          "base_uri": "https://localhost:8080/"
        },
        "outputId": "6067341b-c735-4097-ec21-920e5ef70aa8"
      },
      "execution_count": 41,
      "outputs": [
        {
          "output_type": "stream",
          "name": "stderr",
          "text": [
            "<ipython-input-41-ea899e6a0862>:1: SettingWithCopyWarning: \n",
            "A value is trying to be set on a copy of a slice from a DataFrame.\n",
            "Try using .loc[row_indexer,col_indexer] = value instead\n",
            "\n",
            "See the caveats in the documentation: https://pandas.pydata.org/pandas-docs/stable/user_guide/indexing.html#returning-a-view-versus-a-copy\n",
            "  canara_df['gain'] = ((canara_df['Close Price']-canara_df['Open Price'])*100/(canara_df['Open Price']))\n"
          ]
        }
      ]
    },
    {
      "cell_type": "code",
      "source": [
        "canara_df.head(5)"
      ],
      "metadata": {
        "colab": {
          "base_uri": "https://localhost:8080/",
          "height": 237
        },
        "id": "bzZdP9Dtr6mE",
        "outputId": "bba81caa-8f96-4ce1-ba55-3117190925d3"
      },
      "execution_count": 42,
      "outputs": [
        {
          "output_type": "execute_result",
          "data": {
            "text/plain": [
              "            Close Price  Open Price      gain\n",
              "Date                                         \n",
              "2023-03-14       286.20      288.95 -0.951722\n",
              "2023-03-13       288.65      297.45 -2.958480\n",
              "2023-03-10       298.10      305.50 -2.422259\n",
              "2023-03-09       310.35      311.50 -0.369181\n",
              "2023-03-08       311.50      302.50  2.975207"
            ],
            "text/html": [
              "\n",
              "  <div id=\"df-24f31311-6274-498a-b79a-f56e9ac3d82a\">\n",
              "    <div class=\"colab-df-container\">\n",
              "      <div>\n",
              "<style scoped>\n",
              "    .dataframe tbody tr th:only-of-type {\n",
              "        vertical-align: middle;\n",
              "    }\n",
              "\n",
              "    .dataframe tbody tr th {\n",
              "        vertical-align: top;\n",
              "    }\n",
              "\n",
              "    .dataframe thead th {\n",
              "        text-align: right;\n",
              "    }\n",
              "</style>\n",
              "<table border=\"1\" class=\"dataframe\">\n",
              "  <thead>\n",
              "    <tr style=\"text-align: right;\">\n",
              "      <th></th>\n",
              "      <th>Close Price</th>\n",
              "      <th>Open Price</th>\n",
              "      <th>gain</th>\n",
              "    </tr>\n",
              "    <tr>\n",
              "      <th>Date</th>\n",
              "      <th></th>\n",
              "      <th></th>\n",
              "      <th></th>\n",
              "    </tr>\n",
              "  </thead>\n",
              "  <tbody>\n",
              "    <tr>\n",
              "      <th>2023-03-14</th>\n",
              "      <td>286.20</td>\n",
              "      <td>288.95</td>\n",
              "      <td>-0.951722</td>\n",
              "    </tr>\n",
              "    <tr>\n",
              "      <th>2023-03-13</th>\n",
              "      <td>288.65</td>\n",
              "      <td>297.45</td>\n",
              "      <td>-2.958480</td>\n",
              "    </tr>\n",
              "    <tr>\n",
              "      <th>2023-03-10</th>\n",
              "      <td>298.10</td>\n",
              "      <td>305.50</td>\n",
              "      <td>-2.422259</td>\n",
              "    </tr>\n",
              "    <tr>\n",
              "      <th>2023-03-09</th>\n",
              "      <td>310.35</td>\n",
              "      <td>311.50</td>\n",
              "      <td>-0.369181</td>\n",
              "    </tr>\n",
              "    <tr>\n",
              "      <th>2023-03-08</th>\n",
              "      <td>311.50</td>\n",
              "      <td>302.50</td>\n",
              "      <td>2.975207</td>\n",
              "    </tr>\n",
              "  </tbody>\n",
              "</table>\n",
              "</div>\n",
              "      <button class=\"colab-df-convert\" onclick=\"convertToInteractive('df-24f31311-6274-498a-b79a-f56e9ac3d82a')\"\n",
              "              title=\"Convert this dataframe to an interactive table.\"\n",
              "              style=\"display:none;\">\n",
              "        \n",
              "  <svg xmlns=\"http://www.w3.org/2000/svg\" height=\"24px\"viewBox=\"0 0 24 24\"\n",
              "       width=\"24px\">\n",
              "    <path d=\"M0 0h24v24H0V0z\" fill=\"none\"/>\n",
              "    <path d=\"M18.56 5.44l.94 2.06.94-2.06 2.06-.94-2.06-.94-.94-2.06-.94 2.06-2.06.94zm-11 1L8.5 8.5l.94-2.06 2.06-.94-2.06-.94L8.5 2.5l-.94 2.06-2.06.94zm10 10l.94 2.06.94-2.06 2.06-.94-2.06-.94-.94-2.06-.94 2.06-2.06.94z\"/><path d=\"M17.41 7.96l-1.37-1.37c-.4-.4-.92-.59-1.43-.59-.52 0-1.04.2-1.43.59L10.3 9.45l-7.72 7.72c-.78.78-.78 2.05 0 2.83L4 21.41c.39.39.9.59 1.41.59.51 0 1.02-.2 1.41-.59l7.78-7.78 2.81-2.81c.8-.78.8-2.07 0-2.86zM5.41 20L4 18.59l7.72-7.72 1.47 1.35L5.41 20z\"/>\n",
              "  </svg>\n",
              "      </button>\n",
              "      \n",
              "  <style>\n",
              "    .colab-df-container {\n",
              "      display:flex;\n",
              "      flex-wrap:wrap;\n",
              "      gap: 12px;\n",
              "    }\n",
              "\n",
              "    .colab-df-convert {\n",
              "      background-color: #E8F0FE;\n",
              "      border: none;\n",
              "      border-radius: 50%;\n",
              "      cursor: pointer;\n",
              "      display: none;\n",
              "      fill: #1967D2;\n",
              "      height: 32px;\n",
              "      padding: 0 0 0 0;\n",
              "      width: 32px;\n",
              "    }\n",
              "\n",
              "    .colab-df-convert:hover {\n",
              "      background-color: #E2EBFA;\n",
              "      box-shadow: 0px 1px 2px rgba(60, 64, 67, 0.3), 0px 1px 3px 1px rgba(60, 64, 67, 0.15);\n",
              "      fill: #174EA6;\n",
              "    }\n",
              "\n",
              "    [theme=dark] .colab-df-convert {\n",
              "      background-color: #3B4455;\n",
              "      fill: #D2E3FC;\n",
              "    }\n",
              "\n",
              "    [theme=dark] .colab-df-convert:hover {\n",
              "      background-color: #434B5C;\n",
              "      box-shadow: 0px 1px 3px 1px rgba(0, 0, 0, 0.15);\n",
              "      filter: drop-shadow(0px 1px 2px rgba(0, 0, 0, 0.3));\n",
              "      fill: #FFFFFF;\n",
              "    }\n",
              "  </style>\n",
              "\n",
              "      <script>\n",
              "        const buttonEl =\n",
              "          document.querySelector('#df-24f31311-6274-498a-b79a-f56e9ac3d82a button.colab-df-convert');\n",
              "        buttonEl.style.display =\n",
              "          google.colab.kernel.accessAllowed ? 'block' : 'none';\n",
              "\n",
              "        async function convertToInteractive(key) {\n",
              "          const element = document.querySelector('#df-24f31311-6274-498a-b79a-f56e9ac3d82a');\n",
              "          const dataTable =\n",
              "            await google.colab.kernel.invokeFunction('convertToInteractive',\n",
              "                                                     [key], {});\n",
              "          if (!dataTable) return;\n",
              "\n",
              "          const docLinkHtml = 'Like what you see? Visit the ' +\n",
              "            '<a target=\"_blank\" href=https://colab.research.google.com/notebooks/data_table.ipynb>data table notebook</a>'\n",
              "            + ' to learn more about interactive tables.';\n",
              "          element.innerHTML = '';\n",
              "          dataTable['output_type'] = 'display_data';\n",
              "          await google.colab.output.renderOutput(dataTable, element);\n",
              "          const docLink = document.createElement('div');\n",
              "          docLink.innerHTML = docLinkHtml;\n",
              "          element.appendChild(docLink);\n",
              "        }\n",
              "      </script>\n",
              "    </div>\n",
              "  </div>\n",
              "  "
            ]
          },
          "metadata": {},
          "execution_count": 42
        }
      ]
    },
    {
      "cell_type": "code",
      "source": [
        "canara_df.gain.mean()"
      ],
      "metadata": {
        "colab": {
          "base_uri": "https://localhost:8080/"
        },
        "id": "cUclJmHEr_lh",
        "outputId": "ce63b9db-d7a8-428d-a43b-0cc767c98964"
      },
      "execution_count": 43,
      "outputs": [
        {
          "output_type": "execute_result",
          "data": {
            "text/plain": [
              "-0.1150208642022507"
            ]
          },
          "metadata": {},
          "execution_count": 43
        }
      ]
    },
    {
      "cell_type": "code",
      "source": [
        "canara_df.gain.std()"
      ],
      "metadata": {
        "colab": {
          "base_uri": "https://localhost:8080/"
        },
        "id": "Jedgrxr_sID3",
        "outputId": "0607a621-c2c1-4bec-f375-0cc9aa00eed4"
      },
      "execution_count": 44,
      "outputs": [
        {
          "output_type": "execute_result",
          "data": {
            "text/plain": [
              "2.139010207654068"
            ]
          },
          "metadata": {},
          "execution_count": 44
        }
      ]
    },
    {
      "cell_type": "code",
      "source": [
        "from scipy import stats"
      ],
      "metadata": {
        "id": "Cj4hWhc1sNhT"
      },
      "execution_count": 45,
      "outputs": []
    },
    {
      "cell_type": "code",
      "source": [
        "canara_ci_95 = stats.norm.interval(0.95,\n",
        "                                   loc = canara_df.gain.mean(),\n",
        "                                   scale = canara_df.gain.std())"
      ],
      "metadata": {
        "id": "bTEWHoqPscr2"
      },
      "execution_count": 46,
      "outputs": []
    },
    {
      "cell_type": "code",
      "source": [
        "canara_ci_95"
      ],
      "metadata": {
        "colab": {
          "base_uri": "https://localhost:8080/"
        },
        "id": "LddNnu55tANj",
        "outputId": "8dc6b913-d6c0-433d-fb5c-169c961323c2"
      },
      "execution_count": 47,
      "outputs": [
        {
          "output_type": "execute_result",
          "data": {
            "text/plain": [
              "(-4.307403833767766, 4.077362105363265)"
            ]
          },
          "metadata": {},
          "execution_count": 47
        }
      ]
    },
    {
      "cell_type": "code",
      "source": [
        "canara_ci_95[0]"
      ],
      "metadata": {
        "colab": {
          "base_uri": "https://localhost:8080/"
        },
        "id": "z_mOxlU8tC_D",
        "outputId": "9fd91826-edce-4837-baab-9eac807cc49b"
      },
      "execution_count": 48,
      "outputs": [
        {
          "output_type": "execute_result",
          "data": {
            "text/plain": [
              "-4.307403833767766"
            ]
          },
          "metadata": {},
          "execution_count": 48
        }
      ]
    },
    {
      "cell_type": "code",
      "source": [
        "investment = 100000\n"
      ],
      "metadata": {
        "id": "bhrkfpFQtFVB"
      },
      "execution_count": 49,
      "outputs": []
    },
    {
      "cell_type": "code",
      "source": [
        "investment"
      ],
      "metadata": {
        "colab": {
          "base_uri": "https://localhost:8080/"
        },
        "id": "MdvdmmPwtKxP",
        "outputId": "d870cf5a-d5e9-48cc-a7ba-c529d5fc9d4b"
      },
      "execution_count": 50,
      "outputs": [
        {
          "output_type": "execute_result",
          "data": {
            "text/plain": [
              "100000"
            ]
          },
          "metadata": {},
          "execution_count": 50
        }
      ]
    },
    {
      "cell_type": "code",
      "source": [
        "canara_var = investment*canara_ci_95[0]/100"
      ],
      "metadata": {
        "id": "_RdcGZgNtMbT"
      },
      "execution_count": 51,
      "outputs": []
    },
    {
      "cell_type": "code",
      "source": [
        "canara_var"
      ],
      "metadata": {
        "colab": {
          "base_uri": "https://localhost:8080/"
        },
        "id": "5JjrL0KStVsh",
        "outputId": "abf46550-edd8-46e0-e33c-0be99142ab86"
      },
      "execution_count": 52,
      "outputs": [
        {
          "output_type": "execute_result",
          "data": {
            "text/plain": [
              "-4307.403833767766"
            ]
          },
          "metadata": {},
          "execution_count": 52
        }
      ]
    },
    {
      "cell_type": "markdown",
      "source": [
        "### Note:\n",
        "Value at risk for 95% CI is 4307.40 rupees, if invested one lakh rupees for day trading in canara Bank."
      ],
      "metadata": {
        "id": "cb3JrZTvCIU5"
      }
    },
    {
      "cell_type": "code",
      "source": [
        "import pandas as pd"
      ],
      "metadata": {
        "id": "r4IYRkVFtXkL"
      },
      "execution_count": 53,
      "outputs": []
    },
    {
      "cell_type": "code",
      "source": [
        "indianbank_df = pd.read_csv('/content/drive/MyDrive/Data Set/indianbank.csv',parse_dates = ['Date'])"
      ],
      "metadata": {
        "id": "CawYBKQjCxtW"
      },
      "execution_count": 54,
      "outputs": []
    },
    {
      "cell_type": "code",
      "source": [
        "indianbank_df.head()"
      ],
      "metadata": {
        "colab": {
          "base_uri": "https://localhost:8080/",
          "height": 371
        },
        "id": "r_PLvkrdC-6_",
        "outputId": "f668d9a2-2fb6-498a-d51b-2ab40af2170c"
      },
      "execution_count": 55,
      "outputs": [
        {
          "output_type": "execute_result",
          "data": {
            "text/plain": [
              "        Date  Open Price  High Price  Low Price  Close Price         WAP  \\\n",
              "0 2023-03-14      276.80      285.55     254.30       258.70  262.696277   \n",
              "1 2023-03-13      283.30      289.05     280.25       282.25  285.274659   \n",
              "2 2023-03-10      282.50      291.90     277.30       288.05  282.881235   \n",
              "3 2023-03-09      291.00      291.00     284.50       285.85  286.531077   \n",
              "4 2023-03-08      285.55      292.30     283.65       291.25  288.135022   \n",
              "\n",
              "   No.of Shares  No. of Trades  Total Turnover (Rs.)  Deliverable Quantity  \\\n",
              "0        227981           4519              59889760               69836.0   \n",
              "1         61753           1755              17616566               12638.0   \n",
              "2         92797           2426              26250530               27913.0   \n",
              "3         35251            716              10100507               13524.0   \n",
              "4         61827           1301              17814524               34748.0   \n",
              "\n",
              "   % Deli. Qty to Traded Qty  Spread High-Low  Spread Close-Open  \n",
              "0                      30.63            31.25             -18.10  \n",
              "1                      20.47             8.80              -1.05  \n",
              "2                      30.08            14.60               5.55  \n",
              "3                      38.36             6.50              -5.15  \n",
              "4                      56.20             8.65               5.70  "
            ],
            "text/html": [
              "\n",
              "  <div id=\"df-56af28cc-c090-4d15-a7a0-f571e78c696a\">\n",
              "    <div class=\"colab-df-container\">\n",
              "      <div>\n",
              "<style scoped>\n",
              "    .dataframe tbody tr th:only-of-type {\n",
              "        vertical-align: middle;\n",
              "    }\n",
              "\n",
              "    .dataframe tbody tr th {\n",
              "        vertical-align: top;\n",
              "    }\n",
              "\n",
              "    .dataframe thead th {\n",
              "        text-align: right;\n",
              "    }\n",
              "</style>\n",
              "<table border=\"1\" class=\"dataframe\">\n",
              "  <thead>\n",
              "    <tr style=\"text-align: right;\">\n",
              "      <th></th>\n",
              "      <th>Date</th>\n",
              "      <th>Open Price</th>\n",
              "      <th>High Price</th>\n",
              "      <th>Low Price</th>\n",
              "      <th>Close Price</th>\n",
              "      <th>WAP</th>\n",
              "      <th>No.of Shares</th>\n",
              "      <th>No. of Trades</th>\n",
              "      <th>Total Turnover (Rs.)</th>\n",
              "      <th>Deliverable Quantity</th>\n",
              "      <th>% Deli. Qty to Traded Qty</th>\n",
              "      <th>Spread High-Low</th>\n",
              "      <th>Spread Close-Open</th>\n",
              "    </tr>\n",
              "  </thead>\n",
              "  <tbody>\n",
              "    <tr>\n",
              "      <th>0</th>\n",
              "      <td>2023-03-14</td>\n",
              "      <td>276.80</td>\n",
              "      <td>285.55</td>\n",
              "      <td>254.30</td>\n",
              "      <td>258.70</td>\n",
              "      <td>262.696277</td>\n",
              "      <td>227981</td>\n",
              "      <td>4519</td>\n",
              "      <td>59889760</td>\n",
              "      <td>69836.0</td>\n",
              "      <td>30.63</td>\n",
              "      <td>31.25</td>\n",
              "      <td>-18.10</td>\n",
              "    </tr>\n",
              "    <tr>\n",
              "      <th>1</th>\n",
              "      <td>2023-03-13</td>\n",
              "      <td>283.30</td>\n",
              "      <td>289.05</td>\n",
              "      <td>280.25</td>\n",
              "      <td>282.25</td>\n",
              "      <td>285.274659</td>\n",
              "      <td>61753</td>\n",
              "      <td>1755</td>\n",
              "      <td>17616566</td>\n",
              "      <td>12638.0</td>\n",
              "      <td>20.47</td>\n",
              "      <td>8.80</td>\n",
              "      <td>-1.05</td>\n",
              "    </tr>\n",
              "    <tr>\n",
              "      <th>2</th>\n",
              "      <td>2023-03-10</td>\n",
              "      <td>282.50</td>\n",
              "      <td>291.90</td>\n",
              "      <td>277.30</td>\n",
              "      <td>288.05</td>\n",
              "      <td>282.881235</td>\n",
              "      <td>92797</td>\n",
              "      <td>2426</td>\n",
              "      <td>26250530</td>\n",
              "      <td>27913.0</td>\n",
              "      <td>30.08</td>\n",
              "      <td>14.60</td>\n",
              "      <td>5.55</td>\n",
              "    </tr>\n",
              "    <tr>\n",
              "      <th>3</th>\n",
              "      <td>2023-03-09</td>\n",
              "      <td>291.00</td>\n",
              "      <td>291.00</td>\n",
              "      <td>284.50</td>\n",
              "      <td>285.85</td>\n",
              "      <td>286.531077</td>\n",
              "      <td>35251</td>\n",
              "      <td>716</td>\n",
              "      <td>10100507</td>\n",
              "      <td>13524.0</td>\n",
              "      <td>38.36</td>\n",
              "      <td>6.50</td>\n",
              "      <td>-5.15</td>\n",
              "    </tr>\n",
              "    <tr>\n",
              "      <th>4</th>\n",
              "      <td>2023-03-08</td>\n",
              "      <td>285.55</td>\n",
              "      <td>292.30</td>\n",
              "      <td>283.65</td>\n",
              "      <td>291.25</td>\n",
              "      <td>288.135022</td>\n",
              "      <td>61827</td>\n",
              "      <td>1301</td>\n",
              "      <td>17814524</td>\n",
              "      <td>34748.0</td>\n",
              "      <td>56.20</td>\n",
              "      <td>8.65</td>\n",
              "      <td>5.70</td>\n",
              "    </tr>\n",
              "  </tbody>\n",
              "</table>\n",
              "</div>\n",
              "      <button class=\"colab-df-convert\" onclick=\"convertToInteractive('df-56af28cc-c090-4d15-a7a0-f571e78c696a')\"\n",
              "              title=\"Convert this dataframe to an interactive table.\"\n",
              "              style=\"display:none;\">\n",
              "        \n",
              "  <svg xmlns=\"http://www.w3.org/2000/svg\" height=\"24px\"viewBox=\"0 0 24 24\"\n",
              "       width=\"24px\">\n",
              "    <path d=\"M0 0h24v24H0V0z\" fill=\"none\"/>\n",
              "    <path d=\"M18.56 5.44l.94 2.06.94-2.06 2.06-.94-2.06-.94-.94-2.06-.94 2.06-2.06.94zm-11 1L8.5 8.5l.94-2.06 2.06-.94-2.06-.94L8.5 2.5l-.94 2.06-2.06.94zm10 10l.94 2.06.94-2.06 2.06-.94-2.06-.94-.94-2.06-.94 2.06-2.06.94z\"/><path d=\"M17.41 7.96l-1.37-1.37c-.4-.4-.92-.59-1.43-.59-.52 0-1.04.2-1.43.59L10.3 9.45l-7.72 7.72c-.78.78-.78 2.05 0 2.83L4 21.41c.39.39.9.59 1.41.59.51 0 1.02-.2 1.41-.59l7.78-7.78 2.81-2.81c.8-.78.8-2.07 0-2.86zM5.41 20L4 18.59l7.72-7.72 1.47 1.35L5.41 20z\"/>\n",
              "  </svg>\n",
              "      </button>\n",
              "      \n",
              "  <style>\n",
              "    .colab-df-container {\n",
              "      display:flex;\n",
              "      flex-wrap:wrap;\n",
              "      gap: 12px;\n",
              "    }\n",
              "\n",
              "    .colab-df-convert {\n",
              "      background-color: #E8F0FE;\n",
              "      border: none;\n",
              "      border-radius: 50%;\n",
              "      cursor: pointer;\n",
              "      display: none;\n",
              "      fill: #1967D2;\n",
              "      height: 32px;\n",
              "      padding: 0 0 0 0;\n",
              "      width: 32px;\n",
              "    }\n",
              "\n",
              "    .colab-df-convert:hover {\n",
              "      background-color: #E2EBFA;\n",
              "      box-shadow: 0px 1px 2px rgba(60, 64, 67, 0.3), 0px 1px 3px 1px rgba(60, 64, 67, 0.15);\n",
              "      fill: #174EA6;\n",
              "    }\n",
              "\n",
              "    [theme=dark] .colab-df-convert {\n",
              "      background-color: #3B4455;\n",
              "      fill: #D2E3FC;\n",
              "    }\n",
              "\n",
              "    [theme=dark] .colab-df-convert:hover {\n",
              "      background-color: #434B5C;\n",
              "      box-shadow: 0px 1px 3px 1px rgba(0, 0, 0, 0.15);\n",
              "      filter: drop-shadow(0px 1px 2px rgba(0, 0, 0, 0.3));\n",
              "      fill: #FFFFFF;\n",
              "    }\n",
              "  </style>\n",
              "\n",
              "      <script>\n",
              "        const buttonEl =\n",
              "          document.querySelector('#df-56af28cc-c090-4d15-a7a0-f571e78c696a button.colab-df-convert');\n",
              "        buttonEl.style.display =\n",
              "          google.colab.kernel.accessAllowed ? 'block' : 'none';\n",
              "\n",
              "        async function convertToInteractive(key) {\n",
              "          const element = document.querySelector('#df-56af28cc-c090-4d15-a7a0-f571e78c696a');\n",
              "          const dataTable =\n",
              "            await google.colab.kernel.invokeFunction('convertToInteractive',\n",
              "                                                     [key], {});\n",
              "          if (!dataTable) return;\n",
              "\n",
              "          const docLinkHtml = 'Like what you see? Visit the ' +\n",
              "            '<a target=\"_blank\" href=https://colab.research.google.com/notebooks/data_table.ipynb>data table notebook</a>'\n",
              "            + ' to learn more about interactive tables.';\n",
              "          element.innerHTML = '';\n",
              "          dataTable['output_type'] = 'display_data';\n",
              "          await google.colab.output.renderOutput(dataTable, element);\n",
              "          const docLink = document.createElement('div');\n",
              "          docLink.innerHTML = docLinkHtml;\n",
              "          element.appendChild(docLink);\n",
              "        }\n",
              "      </script>\n",
              "    </div>\n",
              "  </div>\n",
              "  "
            ]
          },
          "metadata": {},
          "execution_count": 55
        }
      ]
    },
    {
      "cell_type": "code",
      "source": [
        "indianbank_df = indianbank_df.set_index(['Date'], drop = True)"
      ],
      "metadata": {
        "id": "VrSocnfgDDbN"
      },
      "execution_count": 56,
      "outputs": []
    },
    {
      "cell_type": "code",
      "source": [
        "indianbank_df.head()"
      ],
      "metadata": {
        "colab": {
          "base_uri": "https://localhost:8080/",
          "height": 403
        },
        "id": "HSvmzcEIDTK2",
        "outputId": "2dad16f6-89ee-416b-82a8-2d50c37d1f44"
      },
      "execution_count": 57,
      "outputs": [
        {
          "output_type": "execute_result",
          "data": {
            "text/plain": [
              "            Open Price  High Price  Low Price  Close Price         WAP  \\\n",
              "Date                                                                     \n",
              "2023-03-14      276.80      285.55     254.30       258.70  262.696277   \n",
              "2023-03-13      283.30      289.05     280.25       282.25  285.274659   \n",
              "2023-03-10      282.50      291.90     277.30       288.05  282.881235   \n",
              "2023-03-09      291.00      291.00     284.50       285.85  286.531077   \n",
              "2023-03-08      285.55      292.30     283.65       291.25  288.135022   \n",
              "\n",
              "            No.of Shares  No. of Trades  Total Turnover (Rs.)  \\\n",
              "Date                                                            \n",
              "2023-03-14        227981           4519              59889760   \n",
              "2023-03-13         61753           1755              17616566   \n",
              "2023-03-10         92797           2426              26250530   \n",
              "2023-03-09         35251            716              10100507   \n",
              "2023-03-08         61827           1301              17814524   \n",
              "\n",
              "            Deliverable Quantity  % Deli. Qty to Traded Qty  Spread High-Low  \\\n",
              "Date                                                                           \n",
              "2023-03-14               69836.0                      30.63            31.25   \n",
              "2023-03-13               12638.0                      20.47             8.80   \n",
              "2023-03-10               27913.0                      30.08            14.60   \n",
              "2023-03-09               13524.0                      38.36             6.50   \n",
              "2023-03-08               34748.0                      56.20             8.65   \n",
              "\n",
              "            Spread Close-Open  \n",
              "Date                           \n",
              "2023-03-14             -18.10  \n",
              "2023-03-13              -1.05  \n",
              "2023-03-10               5.55  \n",
              "2023-03-09              -5.15  \n",
              "2023-03-08               5.70  "
            ],
            "text/html": [
              "\n",
              "  <div id=\"df-769751e5-9767-4405-a1dc-3e44e384d605\">\n",
              "    <div class=\"colab-df-container\">\n",
              "      <div>\n",
              "<style scoped>\n",
              "    .dataframe tbody tr th:only-of-type {\n",
              "        vertical-align: middle;\n",
              "    }\n",
              "\n",
              "    .dataframe tbody tr th {\n",
              "        vertical-align: top;\n",
              "    }\n",
              "\n",
              "    .dataframe thead th {\n",
              "        text-align: right;\n",
              "    }\n",
              "</style>\n",
              "<table border=\"1\" class=\"dataframe\">\n",
              "  <thead>\n",
              "    <tr style=\"text-align: right;\">\n",
              "      <th></th>\n",
              "      <th>Open Price</th>\n",
              "      <th>High Price</th>\n",
              "      <th>Low Price</th>\n",
              "      <th>Close Price</th>\n",
              "      <th>WAP</th>\n",
              "      <th>No.of Shares</th>\n",
              "      <th>No. of Trades</th>\n",
              "      <th>Total Turnover (Rs.)</th>\n",
              "      <th>Deliverable Quantity</th>\n",
              "      <th>% Deli. Qty to Traded Qty</th>\n",
              "      <th>Spread High-Low</th>\n",
              "      <th>Spread Close-Open</th>\n",
              "    </tr>\n",
              "    <tr>\n",
              "      <th>Date</th>\n",
              "      <th></th>\n",
              "      <th></th>\n",
              "      <th></th>\n",
              "      <th></th>\n",
              "      <th></th>\n",
              "      <th></th>\n",
              "      <th></th>\n",
              "      <th></th>\n",
              "      <th></th>\n",
              "      <th></th>\n",
              "      <th></th>\n",
              "      <th></th>\n",
              "    </tr>\n",
              "  </thead>\n",
              "  <tbody>\n",
              "    <tr>\n",
              "      <th>2023-03-14</th>\n",
              "      <td>276.80</td>\n",
              "      <td>285.55</td>\n",
              "      <td>254.30</td>\n",
              "      <td>258.70</td>\n",
              "      <td>262.696277</td>\n",
              "      <td>227981</td>\n",
              "      <td>4519</td>\n",
              "      <td>59889760</td>\n",
              "      <td>69836.0</td>\n",
              "      <td>30.63</td>\n",
              "      <td>31.25</td>\n",
              "      <td>-18.10</td>\n",
              "    </tr>\n",
              "    <tr>\n",
              "      <th>2023-03-13</th>\n",
              "      <td>283.30</td>\n",
              "      <td>289.05</td>\n",
              "      <td>280.25</td>\n",
              "      <td>282.25</td>\n",
              "      <td>285.274659</td>\n",
              "      <td>61753</td>\n",
              "      <td>1755</td>\n",
              "      <td>17616566</td>\n",
              "      <td>12638.0</td>\n",
              "      <td>20.47</td>\n",
              "      <td>8.80</td>\n",
              "      <td>-1.05</td>\n",
              "    </tr>\n",
              "    <tr>\n",
              "      <th>2023-03-10</th>\n",
              "      <td>282.50</td>\n",
              "      <td>291.90</td>\n",
              "      <td>277.30</td>\n",
              "      <td>288.05</td>\n",
              "      <td>282.881235</td>\n",
              "      <td>92797</td>\n",
              "      <td>2426</td>\n",
              "      <td>26250530</td>\n",
              "      <td>27913.0</td>\n",
              "      <td>30.08</td>\n",
              "      <td>14.60</td>\n",
              "      <td>5.55</td>\n",
              "    </tr>\n",
              "    <tr>\n",
              "      <th>2023-03-09</th>\n",
              "      <td>291.00</td>\n",
              "      <td>291.00</td>\n",
              "      <td>284.50</td>\n",
              "      <td>285.85</td>\n",
              "      <td>286.531077</td>\n",
              "      <td>35251</td>\n",
              "      <td>716</td>\n",
              "      <td>10100507</td>\n",
              "      <td>13524.0</td>\n",
              "      <td>38.36</td>\n",
              "      <td>6.50</td>\n",
              "      <td>-5.15</td>\n",
              "    </tr>\n",
              "    <tr>\n",
              "      <th>2023-03-08</th>\n",
              "      <td>285.55</td>\n",
              "      <td>292.30</td>\n",
              "      <td>283.65</td>\n",
              "      <td>291.25</td>\n",
              "      <td>288.135022</td>\n",
              "      <td>61827</td>\n",
              "      <td>1301</td>\n",
              "      <td>17814524</td>\n",
              "      <td>34748.0</td>\n",
              "      <td>56.20</td>\n",
              "      <td>8.65</td>\n",
              "      <td>5.70</td>\n",
              "    </tr>\n",
              "  </tbody>\n",
              "</table>\n",
              "</div>\n",
              "      <button class=\"colab-df-convert\" onclick=\"convertToInteractive('df-769751e5-9767-4405-a1dc-3e44e384d605')\"\n",
              "              title=\"Convert this dataframe to an interactive table.\"\n",
              "              style=\"display:none;\">\n",
              "        \n",
              "  <svg xmlns=\"http://www.w3.org/2000/svg\" height=\"24px\"viewBox=\"0 0 24 24\"\n",
              "       width=\"24px\">\n",
              "    <path d=\"M0 0h24v24H0V0z\" fill=\"none\"/>\n",
              "    <path d=\"M18.56 5.44l.94 2.06.94-2.06 2.06-.94-2.06-.94-.94-2.06-.94 2.06-2.06.94zm-11 1L8.5 8.5l.94-2.06 2.06-.94-2.06-.94L8.5 2.5l-.94 2.06-2.06.94zm10 10l.94 2.06.94-2.06 2.06-.94-2.06-.94-.94-2.06-.94 2.06-2.06.94z\"/><path d=\"M17.41 7.96l-1.37-1.37c-.4-.4-.92-.59-1.43-.59-.52 0-1.04.2-1.43.59L10.3 9.45l-7.72 7.72c-.78.78-.78 2.05 0 2.83L4 21.41c.39.39.9.59 1.41.59.51 0 1.02-.2 1.41-.59l7.78-7.78 2.81-2.81c.8-.78.8-2.07 0-2.86zM5.41 20L4 18.59l7.72-7.72 1.47 1.35L5.41 20z\"/>\n",
              "  </svg>\n",
              "      </button>\n",
              "      \n",
              "  <style>\n",
              "    .colab-df-container {\n",
              "      display:flex;\n",
              "      flex-wrap:wrap;\n",
              "      gap: 12px;\n",
              "    }\n",
              "\n",
              "    .colab-df-convert {\n",
              "      background-color: #E8F0FE;\n",
              "      border: none;\n",
              "      border-radius: 50%;\n",
              "      cursor: pointer;\n",
              "      display: none;\n",
              "      fill: #1967D2;\n",
              "      height: 32px;\n",
              "      padding: 0 0 0 0;\n",
              "      width: 32px;\n",
              "    }\n",
              "\n",
              "    .colab-df-convert:hover {\n",
              "      background-color: #E2EBFA;\n",
              "      box-shadow: 0px 1px 2px rgba(60, 64, 67, 0.3), 0px 1px 3px 1px rgba(60, 64, 67, 0.15);\n",
              "      fill: #174EA6;\n",
              "    }\n",
              "\n",
              "    [theme=dark] .colab-df-convert {\n",
              "      background-color: #3B4455;\n",
              "      fill: #D2E3FC;\n",
              "    }\n",
              "\n",
              "    [theme=dark] .colab-df-convert:hover {\n",
              "      background-color: #434B5C;\n",
              "      box-shadow: 0px 1px 3px 1px rgba(0, 0, 0, 0.15);\n",
              "      filter: drop-shadow(0px 1px 2px rgba(0, 0, 0, 0.3));\n",
              "      fill: #FFFFFF;\n",
              "    }\n",
              "  </style>\n",
              "\n",
              "      <script>\n",
              "        const buttonEl =\n",
              "          document.querySelector('#df-769751e5-9767-4405-a1dc-3e44e384d605 button.colab-df-convert');\n",
              "        buttonEl.style.display =\n",
              "          google.colab.kernel.accessAllowed ? 'block' : 'none';\n",
              "\n",
              "        async function convertToInteractive(key) {\n",
              "          const element = document.querySelector('#df-769751e5-9767-4405-a1dc-3e44e384d605');\n",
              "          const dataTable =\n",
              "            await google.colab.kernel.invokeFunction('convertToInteractive',\n",
              "                                                     [key], {});\n",
              "          if (!dataTable) return;\n",
              "\n",
              "          const docLinkHtml = 'Like what you see? Visit the ' +\n",
              "            '<a target=\"_blank\" href=https://colab.research.google.com/notebooks/data_table.ipynb>data table notebook</a>'\n",
              "            + ' to learn more about interactive tables.';\n",
              "          element.innerHTML = '';\n",
              "          dataTable['output_type'] = 'display_data';\n",
              "          await google.colab.output.renderOutput(dataTable, element);\n",
              "          const docLink = document.createElement('div');\n",
              "          docLink.innerHTML = docLinkHtml;\n",
              "          element.appendChild(docLink);\n",
              "        }\n",
              "      </script>\n",
              "    </div>\n",
              "  </div>\n",
              "  "
            ]
          },
          "metadata": {},
          "execution_count": 57
        }
      ]
    },
    {
      "cell_type": "code",
      "source": [
        "indianbank_df = indianbank_df[['Close Price','Open Price']]"
      ],
      "metadata": {
        "id": "7yJ3Us7kDXPt"
      },
      "execution_count": 58,
      "outputs": []
    },
    {
      "cell_type": "code",
      "source": [
        "indianbank_df.head(10)"
      ],
      "metadata": {
        "colab": {
          "base_uri": "https://localhost:8080/",
          "height": 394
        },
        "id": "f3_1X8MUDkBY",
        "outputId": "9f8702bc-47a9-4054-e8bf-58da11466bca"
      },
      "execution_count": 59,
      "outputs": [
        {
          "output_type": "execute_result",
          "data": {
            "text/plain": [
              "            Close Price  Open Price\n",
              "Date                               \n",
              "2023-03-14       258.70      276.80\n",
              "2023-03-13       282.25      283.30\n",
              "2023-03-10       288.05      282.50\n",
              "2023-03-09       285.85      291.00\n",
              "2023-03-08       291.25      285.55\n",
              "2023-03-06       286.90      293.95\n",
              "2023-03-03       291.95      275.00\n",
              "2023-03-02       274.25      274.90\n",
              "2023-03-01       266.65      257.05\n",
              "2023-02-28       257.05      256.25"
            ],
            "text/html": [
              "\n",
              "  <div id=\"df-0d62143e-4590-43b4-bd81-f78b13765136\">\n",
              "    <div class=\"colab-df-container\">\n",
              "      <div>\n",
              "<style scoped>\n",
              "    .dataframe tbody tr th:only-of-type {\n",
              "        vertical-align: middle;\n",
              "    }\n",
              "\n",
              "    .dataframe tbody tr th {\n",
              "        vertical-align: top;\n",
              "    }\n",
              "\n",
              "    .dataframe thead th {\n",
              "        text-align: right;\n",
              "    }\n",
              "</style>\n",
              "<table border=\"1\" class=\"dataframe\">\n",
              "  <thead>\n",
              "    <tr style=\"text-align: right;\">\n",
              "      <th></th>\n",
              "      <th>Close Price</th>\n",
              "      <th>Open Price</th>\n",
              "    </tr>\n",
              "    <tr>\n",
              "      <th>Date</th>\n",
              "      <th></th>\n",
              "      <th></th>\n",
              "    </tr>\n",
              "  </thead>\n",
              "  <tbody>\n",
              "    <tr>\n",
              "      <th>2023-03-14</th>\n",
              "      <td>258.70</td>\n",
              "      <td>276.80</td>\n",
              "    </tr>\n",
              "    <tr>\n",
              "      <th>2023-03-13</th>\n",
              "      <td>282.25</td>\n",
              "      <td>283.30</td>\n",
              "    </tr>\n",
              "    <tr>\n",
              "      <th>2023-03-10</th>\n",
              "      <td>288.05</td>\n",
              "      <td>282.50</td>\n",
              "    </tr>\n",
              "    <tr>\n",
              "      <th>2023-03-09</th>\n",
              "      <td>285.85</td>\n",
              "      <td>291.00</td>\n",
              "    </tr>\n",
              "    <tr>\n",
              "      <th>2023-03-08</th>\n",
              "      <td>291.25</td>\n",
              "      <td>285.55</td>\n",
              "    </tr>\n",
              "    <tr>\n",
              "      <th>2023-03-06</th>\n",
              "      <td>286.90</td>\n",
              "      <td>293.95</td>\n",
              "    </tr>\n",
              "    <tr>\n",
              "      <th>2023-03-03</th>\n",
              "      <td>291.95</td>\n",
              "      <td>275.00</td>\n",
              "    </tr>\n",
              "    <tr>\n",
              "      <th>2023-03-02</th>\n",
              "      <td>274.25</td>\n",
              "      <td>274.90</td>\n",
              "    </tr>\n",
              "    <tr>\n",
              "      <th>2023-03-01</th>\n",
              "      <td>266.65</td>\n",
              "      <td>257.05</td>\n",
              "    </tr>\n",
              "    <tr>\n",
              "      <th>2023-02-28</th>\n",
              "      <td>257.05</td>\n",
              "      <td>256.25</td>\n",
              "    </tr>\n",
              "  </tbody>\n",
              "</table>\n",
              "</div>\n",
              "      <button class=\"colab-df-convert\" onclick=\"convertToInteractive('df-0d62143e-4590-43b4-bd81-f78b13765136')\"\n",
              "              title=\"Convert this dataframe to an interactive table.\"\n",
              "              style=\"display:none;\">\n",
              "        \n",
              "  <svg xmlns=\"http://www.w3.org/2000/svg\" height=\"24px\"viewBox=\"0 0 24 24\"\n",
              "       width=\"24px\">\n",
              "    <path d=\"M0 0h24v24H0V0z\" fill=\"none\"/>\n",
              "    <path d=\"M18.56 5.44l.94 2.06.94-2.06 2.06-.94-2.06-.94-.94-2.06-.94 2.06-2.06.94zm-11 1L8.5 8.5l.94-2.06 2.06-.94-2.06-.94L8.5 2.5l-.94 2.06-2.06.94zm10 10l.94 2.06.94-2.06 2.06-.94-2.06-.94-.94-2.06-.94 2.06-2.06.94z\"/><path d=\"M17.41 7.96l-1.37-1.37c-.4-.4-.92-.59-1.43-.59-.52 0-1.04.2-1.43.59L10.3 9.45l-7.72 7.72c-.78.78-.78 2.05 0 2.83L4 21.41c.39.39.9.59 1.41.59.51 0 1.02-.2 1.41-.59l7.78-7.78 2.81-2.81c.8-.78.8-2.07 0-2.86zM5.41 20L4 18.59l7.72-7.72 1.47 1.35L5.41 20z\"/>\n",
              "  </svg>\n",
              "      </button>\n",
              "      \n",
              "  <style>\n",
              "    .colab-df-container {\n",
              "      display:flex;\n",
              "      flex-wrap:wrap;\n",
              "      gap: 12px;\n",
              "    }\n",
              "\n",
              "    .colab-df-convert {\n",
              "      background-color: #E8F0FE;\n",
              "      border: none;\n",
              "      border-radius: 50%;\n",
              "      cursor: pointer;\n",
              "      display: none;\n",
              "      fill: #1967D2;\n",
              "      height: 32px;\n",
              "      padding: 0 0 0 0;\n",
              "      width: 32px;\n",
              "    }\n",
              "\n",
              "    .colab-df-convert:hover {\n",
              "      background-color: #E2EBFA;\n",
              "      box-shadow: 0px 1px 2px rgba(60, 64, 67, 0.3), 0px 1px 3px 1px rgba(60, 64, 67, 0.15);\n",
              "      fill: #174EA6;\n",
              "    }\n",
              "\n",
              "    [theme=dark] .colab-df-convert {\n",
              "      background-color: #3B4455;\n",
              "      fill: #D2E3FC;\n",
              "    }\n",
              "\n",
              "    [theme=dark] .colab-df-convert:hover {\n",
              "      background-color: #434B5C;\n",
              "      box-shadow: 0px 1px 3px 1px rgba(0, 0, 0, 0.15);\n",
              "      filter: drop-shadow(0px 1px 2px rgba(0, 0, 0, 0.3));\n",
              "      fill: #FFFFFF;\n",
              "    }\n",
              "  </style>\n",
              "\n",
              "      <script>\n",
              "        const buttonEl =\n",
              "          document.querySelector('#df-0d62143e-4590-43b4-bd81-f78b13765136 button.colab-df-convert');\n",
              "        buttonEl.style.display =\n",
              "          google.colab.kernel.accessAllowed ? 'block' : 'none';\n",
              "\n",
              "        async function convertToInteractive(key) {\n",
              "          const element = document.querySelector('#df-0d62143e-4590-43b4-bd81-f78b13765136');\n",
              "          const dataTable =\n",
              "            await google.colab.kernel.invokeFunction('convertToInteractive',\n",
              "                                                     [key], {});\n",
              "          if (!dataTable) return;\n",
              "\n",
              "          const docLinkHtml = 'Like what you see? Visit the ' +\n",
              "            '<a target=\"_blank\" href=https://colab.research.google.com/notebooks/data_table.ipynb>data table notebook</a>'\n",
              "            + ' to learn more about interactive tables.';\n",
              "          element.innerHTML = '';\n",
              "          dataTable['output_type'] = 'display_data';\n",
              "          await google.colab.output.renderOutput(dataTable, element);\n",
              "          const docLink = document.createElement('div');\n",
              "          docLink.innerHTML = docLinkHtml;\n",
              "          element.appendChild(docLink);\n",
              "        }\n",
              "      </script>\n",
              "    </div>\n",
              "  </div>\n",
              "  "
            ]
          },
          "metadata": {},
          "execution_count": 59
        }
      ]
    },
    {
      "cell_type": "code",
      "source": [
        "indianbank_df['gain']=((indianbank_df['Close Price']-indianbank_df['Open Price'])*100/(indianbank_df['Open Price']))"
      ],
      "metadata": {
        "id": "4jR-0t2_DoRx"
      },
      "execution_count": 60,
      "outputs": []
    },
    {
      "cell_type": "code",
      "source": [
        "indianbank_df.head()"
      ],
      "metadata": {
        "colab": {
          "base_uri": "https://localhost:8080/",
          "height": 237
        },
        "id": "n1Gsc15kESAD",
        "outputId": "246fd7a7-d195-4174-d8b1-515ce5b1543c"
      },
      "execution_count": 61,
      "outputs": [
        {
          "output_type": "execute_result",
          "data": {
            "text/plain": [
              "            Close Price  Open Price      gain\n",
              "Date                                         \n",
              "2023-03-14       258.70      276.80 -6.539017\n",
              "2023-03-13       282.25      283.30 -0.370632\n",
              "2023-03-10       288.05      282.50  1.964602\n",
              "2023-03-09       285.85      291.00 -1.769759\n",
              "2023-03-08       291.25      285.55  1.996148"
            ],
            "text/html": [
              "\n",
              "  <div id=\"df-3b544412-ba85-446a-aa73-31fd0bcfeba1\">\n",
              "    <div class=\"colab-df-container\">\n",
              "      <div>\n",
              "<style scoped>\n",
              "    .dataframe tbody tr th:only-of-type {\n",
              "        vertical-align: middle;\n",
              "    }\n",
              "\n",
              "    .dataframe tbody tr th {\n",
              "        vertical-align: top;\n",
              "    }\n",
              "\n",
              "    .dataframe thead th {\n",
              "        text-align: right;\n",
              "    }\n",
              "</style>\n",
              "<table border=\"1\" class=\"dataframe\">\n",
              "  <thead>\n",
              "    <tr style=\"text-align: right;\">\n",
              "      <th></th>\n",
              "      <th>Close Price</th>\n",
              "      <th>Open Price</th>\n",
              "      <th>gain</th>\n",
              "    </tr>\n",
              "    <tr>\n",
              "      <th>Date</th>\n",
              "      <th></th>\n",
              "      <th></th>\n",
              "      <th></th>\n",
              "    </tr>\n",
              "  </thead>\n",
              "  <tbody>\n",
              "    <tr>\n",
              "      <th>2023-03-14</th>\n",
              "      <td>258.70</td>\n",
              "      <td>276.80</td>\n",
              "      <td>-6.539017</td>\n",
              "    </tr>\n",
              "    <tr>\n",
              "      <th>2023-03-13</th>\n",
              "      <td>282.25</td>\n",
              "      <td>283.30</td>\n",
              "      <td>-0.370632</td>\n",
              "    </tr>\n",
              "    <tr>\n",
              "      <th>2023-03-10</th>\n",
              "      <td>288.05</td>\n",
              "      <td>282.50</td>\n",
              "      <td>1.964602</td>\n",
              "    </tr>\n",
              "    <tr>\n",
              "      <th>2023-03-09</th>\n",
              "      <td>285.85</td>\n",
              "      <td>291.00</td>\n",
              "      <td>-1.769759</td>\n",
              "    </tr>\n",
              "    <tr>\n",
              "      <th>2023-03-08</th>\n",
              "      <td>291.25</td>\n",
              "      <td>285.55</td>\n",
              "      <td>1.996148</td>\n",
              "    </tr>\n",
              "  </tbody>\n",
              "</table>\n",
              "</div>\n",
              "      <button class=\"colab-df-convert\" onclick=\"convertToInteractive('df-3b544412-ba85-446a-aa73-31fd0bcfeba1')\"\n",
              "              title=\"Convert this dataframe to an interactive table.\"\n",
              "              style=\"display:none;\">\n",
              "        \n",
              "  <svg xmlns=\"http://www.w3.org/2000/svg\" height=\"24px\"viewBox=\"0 0 24 24\"\n",
              "       width=\"24px\">\n",
              "    <path d=\"M0 0h24v24H0V0z\" fill=\"none\"/>\n",
              "    <path d=\"M18.56 5.44l.94 2.06.94-2.06 2.06-.94-2.06-.94-.94-2.06-.94 2.06-2.06.94zm-11 1L8.5 8.5l.94-2.06 2.06-.94-2.06-.94L8.5 2.5l-.94 2.06-2.06.94zm10 10l.94 2.06.94-2.06 2.06-.94-2.06-.94-.94-2.06-.94 2.06-2.06.94z\"/><path d=\"M17.41 7.96l-1.37-1.37c-.4-.4-.92-.59-1.43-.59-.52 0-1.04.2-1.43.59L10.3 9.45l-7.72 7.72c-.78.78-.78 2.05 0 2.83L4 21.41c.39.39.9.59 1.41.59.51 0 1.02-.2 1.41-.59l7.78-7.78 2.81-2.81c.8-.78.8-2.07 0-2.86zM5.41 20L4 18.59l7.72-7.72 1.47 1.35L5.41 20z\"/>\n",
              "  </svg>\n",
              "      </button>\n",
              "      \n",
              "  <style>\n",
              "    .colab-df-container {\n",
              "      display:flex;\n",
              "      flex-wrap:wrap;\n",
              "      gap: 12px;\n",
              "    }\n",
              "\n",
              "    .colab-df-convert {\n",
              "      background-color: #E8F0FE;\n",
              "      border: none;\n",
              "      border-radius: 50%;\n",
              "      cursor: pointer;\n",
              "      display: none;\n",
              "      fill: #1967D2;\n",
              "      height: 32px;\n",
              "      padding: 0 0 0 0;\n",
              "      width: 32px;\n",
              "    }\n",
              "\n",
              "    .colab-df-convert:hover {\n",
              "      background-color: #E2EBFA;\n",
              "      box-shadow: 0px 1px 2px rgba(60, 64, 67, 0.3), 0px 1px 3px 1px rgba(60, 64, 67, 0.15);\n",
              "      fill: #174EA6;\n",
              "    }\n",
              "\n",
              "    [theme=dark] .colab-df-convert {\n",
              "      background-color: #3B4455;\n",
              "      fill: #D2E3FC;\n",
              "    }\n",
              "\n",
              "    [theme=dark] .colab-df-convert:hover {\n",
              "      background-color: #434B5C;\n",
              "      box-shadow: 0px 1px 3px 1px rgba(0, 0, 0, 0.15);\n",
              "      filter: drop-shadow(0px 1px 2px rgba(0, 0, 0, 0.3));\n",
              "      fill: #FFFFFF;\n",
              "    }\n",
              "  </style>\n",
              "\n",
              "      <script>\n",
              "        const buttonEl =\n",
              "          document.querySelector('#df-3b544412-ba85-446a-aa73-31fd0bcfeba1 button.colab-df-convert');\n",
              "        buttonEl.style.display =\n",
              "          google.colab.kernel.accessAllowed ? 'block' : 'none';\n",
              "\n",
              "        async function convertToInteractive(key) {\n",
              "          const element = document.querySelector('#df-3b544412-ba85-446a-aa73-31fd0bcfeba1');\n",
              "          const dataTable =\n",
              "            await google.colab.kernel.invokeFunction('convertToInteractive',\n",
              "                                                     [key], {});\n",
              "          if (!dataTable) return;\n",
              "\n",
              "          const docLinkHtml = 'Like what you see? Visit the ' +\n",
              "            '<a target=\"_blank\" href=https://colab.research.google.com/notebooks/data_table.ipynb>data table notebook</a>'\n",
              "            + ' to learn more about interactive tables.';\n",
              "          element.innerHTML = '';\n",
              "          dataTable['output_type'] = 'display_data';\n",
              "          await google.colab.output.renderOutput(dataTable, element);\n",
              "          const docLink = document.createElement('div');\n",
              "          docLink.innerHTML = docLinkHtml;\n",
              "          element.appendChild(docLink);\n",
              "        }\n",
              "      </script>\n",
              "    </div>\n",
              "  </div>\n",
              "  "
            ]
          },
          "metadata": {},
          "execution_count": 61
        }
      ]
    },
    {
      "cell_type": "code",
      "source": [
        "from scipy import stats"
      ],
      "metadata": {
        "id": "Hg1d1ownEcVB"
      },
      "execution_count": 62,
      "outputs": []
    },
    {
      "cell_type": "code",
      "source": [
        "indianbank_ci_95 = stats.norm.interval(0.95,\n",
        "                                       loc = indianbank_df.gain.mean(),\n",
        "                                       scale = indianbank_df.gain.std())"
      ],
      "metadata": {
        "id": "aw8dygq_Ek3j"
      },
      "execution_count": 63,
      "outputs": []
    },
    {
      "cell_type": "code",
      "source": [
        "indianbank_ci_95"
      ],
      "metadata": {
        "colab": {
          "base_uri": "https://localhost:8080/"
        },
        "id": "pyn1rAJ5FQmj",
        "outputId": "776970ac-d637-4ed3-87de-f3c08fdba4d5"
      },
      "execution_count": 64,
      "outputs": [
        {
          "output_type": "execute_result",
          "data": {
            "text/plain": [
              "(-5.181402327383657, 5.334869987522995)"
            ]
          },
          "metadata": {},
          "execution_count": 64
        }
      ]
    },
    {
      "cell_type": "code",
      "source": [
        "investment = 100000"
      ],
      "metadata": {
        "id": "XsC3mPxpFTsk"
      },
      "execution_count": 65,
      "outputs": []
    },
    {
      "cell_type": "code",
      "source": [
        "indianbank_var = investment*indianbank_ci_95[0]/100"
      ],
      "metadata": {
        "id": "vIvIRNfqFYaA"
      },
      "execution_count": 66,
      "outputs": []
    },
    {
      "cell_type": "code",
      "source": [
        "indianbank_var"
      ],
      "metadata": {
        "colab": {
          "base_uri": "https://localhost:8080/"
        },
        "id": "plymbLXwFnHt",
        "outputId": "4f9b9839-808d-4163-c1cf-e34e5bfc07d3"
      },
      "execution_count": 67,
      "outputs": [
        {
          "output_type": "execute_result",
          "data": {
            "text/plain": [
              "-5181.402327383657"
            ]
          },
          "metadata": {},
          "execution_count": 67
        }
      ]
    },
    {
      "cell_type": "markdown",
      "source": [
        "## Note:\n",
        "Value at risk for 95% CI is 5181.40 rupees, if invested one lakh rupees for day trading in indianBank."
      ],
      "metadata": {
        "id": "QJxQCGceFy9t"
      }
    },
    {
      "cell_type": "code",
      "source": [
        "import pandas as pd\n"
      ],
      "metadata": {
        "id": "KOT43TYEFrXs"
      },
      "execution_count": 68,
      "outputs": []
    },
    {
      "cell_type": "code",
      "source": [
        "unionbank_df = pd.read_csv('/content/drive/MyDrive/Data Set/unionbank.csv',parse_dates = ['Date'])"
      ],
      "metadata": {
        "id": "gfZ3Sw7MGyrL"
      },
      "execution_count": 69,
      "outputs": []
    },
    {
      "cell_type": "code",
      "source": [
        "unionbank_df =unionbank_df[['Close Price','Open Price']]"
      ],
      "metadata": {
        "id": "w3XsSZ6_G-9V"
      },
      "execution_count": 70,
      "outputs": []
    },
    {
      "cell_type": "code",
      "source": [
        "unionbank_df.head(5)"
      ],
      "metadata": {
        "colab": {
          "base_uri": "https://localhost:8080/",
          "height": 206
        },
        "id": "cbuSW9UrHLuJ",
        "outputId": "11dc8c42-c315-4202-8373-8b260beb704b"
      },
      "execution_count": 71,
      "outputs": [
        {
          "output_type": "execute_result",
          "data": {
            "text/plain": [
              "   Close Price  Open Price\n",
              "0        66.23       69.05\n",
              "1        69.25       70.90\n",
              "2        70.52       71.02\n",
              "3        72.26       73.41\n",
              "4        73.42       71.73"
            ],
            "text/html": [
              "\n",
              "  <div id=\"df-58b26b3b-6f1a-4a96-b639-cc45a569ee8d\">\n",
              "    <div class=\"colab-df-container\">\n",
              "      <div>\n",
              "<style scoped>\n",
              "    .dataframe tbody tr th:only-of-type {\n",
              "        vertical-align: middle;\n",
              "    }\n",
              "\n",
              "    .dataframe tbody tr th {\n",
              "        vertical-align: top;\n",
              "    }\n",
              "\n",
              "    .dataframe thead th {\n",
              "        text-align: right;\n",
              "    }\n",
              "</style>\n",
              "<table border=\"1\" class=\"dataframe\">\n",
              "  <thead>\n",
              "    <tr style=\"text-align: right;\">\n",
              "      <th></th>\n",
              "      <th>Close Price</th>\n",
              "      <th>Open Price</th>\n",
              "    </tr>\n",
              "  </thead>\n",
              "  <tbody>\n",
              "    <tr>\n",
              "      <th>0</th>\n",
              "      <td>66.23</td>\n",
              "      <td>69.05</td>\n",
              "    </tr>\n",
              "    <tr>\n",
              "      <th>1</th>\n",
              "      <td>69.25</td>\n",
              "      <td>70.90</td>\n",
              "    </tr>\n",
              "    <tr>\n",
              "      <th>2</th>\n",
              "      <td>70.52</td>\n",
              "      <td>71.02</td>\n",
              "    </tr>\n",
              "    <tr>\n",
              "      <th>3</th>\n",
              "      <td>72.26</td>\n",
              "      <td>73.41</td>\n",
              "    </tr>\n",
              "    <tr>\n",
              "      <th>4</th>\n",
              "      <td>73.42</td>\n",
              "      <td>71.73</td>\n",
              "    </tr>\n",
              "  </tbody>\n",
              "</table>\n",
              "</div>\n",
              "      <button class=\"colab-df-convert\" onclick=\"convertToInteractive('df-58b26b3b-6f1a-4a96-b639-cc45a569ee8d')\"\n",
              "              title=\"Convert this dataframe to an interactive table.\"\n",
              "              style=\"display:none;\">\n",
              "        \n",
              "  <svg xmlns=\"http://www.w3.org/2000/svg\" height=\"24px\"viewBox=\"0 0 24 24\"\n",
              "       width=\"24px\">\n",
              "    <path d=\"M0 0h24v24H0V0z\" fill=\"none\"/>\n",
              "    <path d=\"M18.56 5.44l.94 2.06.94-2.06 2.06-.94-2.06-.94-.94-2.06-.94 2.06-2.06.94zm-11 1L8.5 8.5l.94-2.06 2.06-.94-2.06-.94L8.5 2.5l-.94 2.06-2.06.94zm10 10l.94 2.06.94-2.06 2.06-.94-2.06-.94-.94-2.06-.94 2.06-2.06.94z\"/><path d=\"M17.41 7.96l-1.37-1.37c-.4-.4-.92-.59-1.43-.59-.52 0-1.04.2-1.43.59L10.3 9.45l-7.72 7.72c-.78.78-.78 2.05 0 2.83L4 21.41c.39.39.9.59 1.41.59.51 0 1.02-.2 1.41-.59l7.78-7.78 2.81-2.81c.8-.78.8-2.07 0-2.86zM5.41 20L4 18.59l7.72-7.72 1.47 1.35L5.41 20z\"/>\n",
              "  </svg>\n",
              "      </button>\n",
              "      \n",
              "  <style>\n",
              "    .colab-df-container {\n",
              "      display:flex;\n",
              "      flex-wrap:wrap;\n",
              "      gap: 12px;\n",
              "    }\n",
              "\n",
              "    .colab-df-convert {\n",
              "      background-color: #E8F0FE;\n",
              "      border: none;\n",
              "      border-radius: 50%;\n",
              "      cursor: pointer;\n",
              "      display: none;\n",
              "      fill: #1967D2;\n",
              "      height: 32px;\n",
              "      padding: 0 0 0 0;\n",
              "      width: 32px;\n",
              "    }\n",
              "\n",
              "    .colab-df-convert:hover {\n",
              "      background-color: #E2EBFA;\n",
              "      box-shadow: 0px 1px 2px rgba(60, 64, 67, 0.3), 0px 1px 3px 1px rgba(60, 64, 67, 0.15);\n",
              "      fill: #174EA6;\n",
              "    }\n",
              "\n",
              "    [theme=dark] .colab-df-convert {\n",
              "      background-color: #3B4455;\n",
              "      fill: #D2E3FC;\n",
              "    }\n",
              "\n",
              "    [theme=dark] .colab-df-convert:hover {\n",
              "      background-color: #434B5C;\n",
              "      box-shadow: 0px 1px 3px 1px rgba(0, 0, 0, 0.15);\n",
              "      filter: drop-shadow(0px 1px 2px rgba(0, 0, 0, 0.3));\n",
              "      fill: #FFFFFF;\n",
              "    }\n",
              "  </style>\n",
              "\n",
              "      <script>\n",
              "        const buttonEl =\n",
              "          document.querySelector('#df-58b26b3b-6f1a-4a96-b639-cc45a569ee8d button.colab-df-convert');\n",
              "        buttonEl.style.display =\n",
              "          google.colab.kernel.accessAllowed ? 'block' : 'none';\n",
              "\n",
              "        async function convertToInteractive(key) {\n",
              "          const element = document.querySelector('#df-58b26b3b-6f1a-4a96-b639-cc45a569ee8d');\n",
              "          const dataTable =\n",
              "            await google.colab.kernel.invokeFunction('convertToInteractive',\n",
              "                                                     [key], {});\n",
              "          if (!dataTable) return;\n",
              "\n",
              "          const docLinkHtml = 'Like what you see? Visit the ' +\n",
              "            '<a target=\"_blank\" href=https://colab.research.google.com/notebooks/data_table.ipynb>data table notebook</a>'\n",
              "            + ' to learn more about interactive tables.';\n",
              "          element.innerHTML = '';\n",
              "          dataTable['output_type'] = 'display_data';\n",
              "          await google.colab.output.renderOutput(dataTable, element);\n",
              "          const docLink = document.createElement('div');\n",
              "          docLink.innerHTML = docLinkHtml;\n",
              "          element.appendChild(docLink);\n",
              "        }\n",
              "      </script>\n",
              "    </div>\n",
              "  </div>\n",
              "  "
            ]
          },
          "metadata": {},
          "execution_count": 71
        }
      ]
    },
    {
      "cell_type": "code",
      "source": [
        "unionbank_df['gain']=((unionbank_df['Close Price']-unionbank_df['Open Price'])*100/(unionbank_df['Open Price']))"
      ],
      "metadata": {
        "id": "C55Zbm07HN7X"
      },
      "execution_count": 72,
      "outputs": []
    },
    {
      "cell_type": "code",
      "source": [
        "unionbank_df.head()"
      ],
      "metadata": {
        "colab": {
          "base_uri": "https://localhost:8080/",
          "height": 206
        },
        "id": "43aHxLG2Hzhb",
        "outputId": "cde53ed4-1cbb-410c-be7f-a1618d0af75b"
      },
      "execution_count": 73,
      "outputs": [
        {
          "output_type": "execute_result",
          "data": {
            "text/plain": [
              "   Close Price  Open Price      gain\n",
              "0        66.23       69.05 -4.083997\n",
              "1        69.25       70.90 -2.327221\n",
              "2        70.52       71.02 -0.704027\n",
              "3        72.26       73.41 -1.566544\n",
              "4        73.42       71.73  2.356057"
            ],
            "text/html": [
              "\n",
              "  <div id=\"df-b33bcd30-1926-480c-8f35-8541cbe2319b\">\n",
              "    <div class=\"colab-df-container\">\n",
              "      <div>\n",
              "<style scoped>\n",
              "    .dataframe tbody tr th:only-of-type {\n",
              "        vertical-align: middle;\n",
              "    }\n",
              "\n",
              "    .dataframe tbody tr th {\n",
              "        vertical-align: top;\n",
              "    }\n",
              "\n",
              "    .dataframe thead th {\n",
              "        text-align: right;\n",
              "    }\n",
              "</style>\n",
              "<table border=\"1\" class=\"dataframe\">\n",
              "  <thead>\n",
              "    <tr style=\"text-align: right;\">\n",
              "      <th></th>\n",
              "      <th>Close Price</th>\n",
              "      <th>Open Price</th>\n",
              "      <th>gain</th>\n",
              "    </tr>\n",
              "  </thead>\n",
              "  <tbody>\n",
              "    <tr>\n",
              "      <th>0</th>\n",
              "      <td>66.23</td>\n",
              "      <td>69.05</td>\n",
              "      <td>-4.083997</td>\n",
              "    </tr>\n",
              "    <tr>\n",
              "      <th>1</th>\n",
              "      <td>69.25</td>\n",
              "      <td>70.90</td>\n",
              "      <td>-2.327221</td>\n",
              "    </tr>\n",
              "    <tr>\n",
              "      <th>2</th>\n",
              "      <td>70.52</td>\n",
              "      <td>71.02</td>\n",
              "      <td>-0.704027</td>\n",
              "    </tr>\n",
              "    <tr>\n",
              "      <th>3</th>\n",
              "      <td>72.26</td>\n",
              "      <td>73.41</td>\n",
              "      <td>-1.566544</td>\n",
              "    </tr>\n",
              "    <tr>\n",
              "      <th>4</th>\n",
              "      <td>73.42</td>\n",
              "      <td>71.73</td>\n",
              "      <td>2.356057</td>\n",
              "    </tr>\n",
              "  </tbody>\n",
              "</table>\n",
              "</div>\n",
              "      <button class=\"colab-df-convert\" onclick=\"convertToInteractive('df-b33bcd30-1926-480c-8f35-8541cbe2319b')\"\n",
              "              title=\"Convert this dataframe to an interactive table.\"\n",
              "              style=\"display:none;\">\n",
              "        \n",
              "  <svg xmlns=\"http://www.w3.org/2000/svg\" height=\"24px\"viewBox=\"0 0 24 24\"\n",
              "       width=\"24px\">\n",
              "    <path d=\"M0 0h24v24H0V0z\" fill=\"none\"/>\n",
              "    <path d=\"M18.56 5.44l.94 2.06.94-2.06 2.06-.94-2.06-.94-.94-2.06-.94 2.06-2.06.94zm-11 1L8.5 8.5l.94-2.06 2.06-.94-2.06-.94L8.5 2.5l-.94 2.06-2.06.94zm10 10l.94 2.06.94-2.06 2.06-.94-2.06-.94-.94-2.06-.94 2.06-2.06.94z\"/><path d=\"M17.41 7.96l-1.37-1.37c-.4-.4-.92-.59-1.43-.59-.52 0-1.04.2-1.43.59L10.3 9.45l-7.72 7.72c-.78.78-.78 2.05 0 2.83L4 21.41c.39.39.9.59 1.41.59.51 0 1.02-.2 1.41-.59l7.78-7.78 2.81-2.81c.8-.78.8-2.07 0-2.86zM5.41 20L4 18.59l7.72-7.72 1.47 1.35L5.41 20z\"/>\n",
              "  </svg>\n",
              "      </button>\n",
              "      \n",
              "  <style>\n",
              "    .colab-df-container {\n",
              "      display:flex;\n",
              "      flex-wrap:wrap;\n",
              "      gap: 12px;\n",
              "    }\n",
              "\n",
              "    .colab-df-convert {\n",
              "      background-color: #E8F0FE;\n",
              "      border: none;\n",
              "      border-radius: 50%;\n",
              "      cursor: pointer;\n",
              "      display: none;\n",
              "      fill: #1967D2;\n",
              "      height: 32px;\n",
              "      padding: 0 0 0 0;\n",
              "      width: 32px;\n",
              "    }\n",
              "\n",
              "    .colab-df-convert:hover {\n",
              "      background-color: #E2EBFA;\n",
              "      box-shadow: 0px 1px 2px rgba(60, 64, 67, 0.3), 0px 1px 3px 1px rgba(60, 64, 67, 0.15);\n",
              "      fill: #174EA6;\n",
              "    }\n",
              "\n",
              "    [theme=dark] .colab-df-convert {\n",
              "      background-color: #3B4455;\n",
              "      fill: #D2E3FC;\n",
              "    }\n",
              "\n",
              "    [theme=dark] .colab-df-convert:hover {\n",
              "      background-color: #434B5C;\n",
              "      box-shadow: 0px 1px 3px 1px rgba(0, 0, 0, 0.15);\n",
              "      filter: drop-shadow(0px 1px 2px rgba(0, 0, 0, 0.3));\n",
              "      fill: #FFFFFF;\n",
              "    }\n",
              "  </style>\n",
              "\n",
              "      <script>\n",
              "        const buttonEl =\n",
              "          document.querySelector('#df-b33bcd30-1926-480c-8f35-8541cbe2319b button.colab-df-convert');\n",
              "        buttonEl.style.display =\n",
              "          google.colab.kernel.accessAllowed ? 'block' : 'none';\n",
              "\n",
              "        async function convertToInteractive(key) {\n",
              "          const element = document.querySelector('#df-b33bcd30-1926-480c-8f35-8541cbe2319b');\n",
              "          const dataTable =\n",
              "            await google.colab.kernel.invokeFunction('convertToInteractive',\n",
              "                                                     [key], {});\n",
              "          if (!dataTable) return;\n",
              "\n",
              "          const docLinkHtml = 'Like what you see? Visit the ' +\n",
              "            '<a target=\"_blank\" href=https://colab.research.google.com/notebooks/data_table.ipynb>data table notebook</a>'\n",
              "            + ' to learn more about interactive tables.';\n",
              "          element.innerHTML = '';\n",
              "          dataTable['output_type'] = 'display_data';\n",
              "          await google.colab.output.renderOutput(dataTable, element);\n",
              "          const docLink = document.createElement('div');\n",
              "          docLink.innerHTML = docLinkHtml;\n",
              "          element.appendChild(docLink);\n",
              "        }\n",
              "      </script>\n",
              "    </div>\n",
              "  </div>\n",
              "  "
            ]
          },
          "metadata": {},
          "execution_count": 73
        }
      ]
    },
    {
      "cell_type": "code",
      "source": [
        "from scipy import stats"
      ],
      "metadata": {
        "id": "UCqKKgNFH8-p"
      },
      "execution_count": 74,
      "outputs": []
    },
    {
      "cell_type": "code",
      "source": [
        "unionbank_ci_95 = stats.norm.interval(0.95,\n",
        "                                      loc = unionbank_df.gain.mean(),\n",
        "                                      scale = unionbank_df.gain.std())"
      ],
      "metadata": {
        "id": "04-bfMVxIaJr"
      },
      "execution_count": 75,
      "outputs": []
    },
    {
      "cell_type": "code",
      "source": [
        "unionbank_ci_95"
      ],
      "metadata": {
        "colab": {
          "base_uri": "https://localhost:8080/"
        },
        "id": "jtMujQI1I_E2",
        "outputId": "85725a1d-8b2c-4bd2-c892-8ef4e918ae60"
      },
      "execution_count": 76,
      "outputs": [
        {
          "output_type": "execute_result",
          "data": {
            "text/plain": [
              "(-7.211625645307824, 7.478527620889907)"
            ]
          },
          "metadata": {},
          "execution_count": 76
        }
      ]
    },
    {
      "cell_type": "code",
      "source": [
        "unionbank_var = 100000*unionbank_ci_95[0]/100"
      ],
      "metadata": {
        "id": "UfHXSCPVJDQB"
      },
      "execution_count": 77,
      "outputs": []
    },
    {
      "cell_type": "code",
      "source": [
        "unionbank_var"
      ],
      "metadata": {
        "colab": {
          "base_uri": "https://localhost:8080/"
        },
        "id": "J99RNQU2JO2T",
        "outputId": "2aab9578-0b28-4325-de8f-656c255317f1"
      },
      "execution_count": 78,
      "outputs": [
        {
          "output_type": "execute_result",
          "data": {
            "text/plain": [
              "-7211.625645307824"
            ]
          },
          "metadata": {},
          "execution_count": 78
        }
      ]
    },
    {
      "cell_type": "markdown",
      "source": [
        "## Note:\n",
        "Value at risk for 95% CI is 7211.62 rupees, if invested one lakh rupees for day trading in unionBank."
      ],
      "metadata": {
        "id": "6hb75LVSJawn"
      }
    },
    {
      "cell_type": "markdown",
      "source": [
        "### Final Result of q 1"
      ],
      "metadata": {
        "id": "t4YgrhsdKf0S"
      }
    },
    {
      "cell_type": "markdown",
      "source": [],
      "metadata": {
        "id": "SqoUj9UJJt8Q"
      }
    },
    {
      "cell_type": "markdown",
      "source": [
        "1.Value at risk for 95% CI is 3405.34 rupees, if invested one lakh rupees for day trading in sbi Bank.\n",
        "\n",
        "2.Value at risk for 95% CI is 5388.69 rupees, if invested one lakh rupees for day trading in pnb Bank.\n",
        "\n",
        "3.Value at risk for 95% CI is 4307.40 rupees, if invested one lakh rupees for day trading in canara Bank.\n",
        "\n",
        "4.Value at risk for 95% CI is 5181.40 rupees, if invested one lakh rupees for day trading in indianBank.\n",
        "\n",
        "5.Value at risk for 95% CI is 7211.62 rupees, if invested one lakh rupees for day trading in unionBank."
      ],
      "metadata": {
        "id": "hXtMr1BRJuhO"
      }
    },
    {
      "cell_type": "markdown",
      "source": [
        "## Q3.Plot the daily gain or loss of all the stocks in one plot."
      ],
      "metadata": {
        "id": "3XKM6opvLIsK"
      }
    },
    {
      "cell_type": "code",
      "source": [
        "import pandas as pd\n",
        "import matplotlib as mplot\n",
        "import matplotlib.pyplot as plt\n",
        "import seaborn as sn"
      ],
      "metadata": {
        "id": "Rdm6BPi_JSbS"
      },
      "execution_count": 79,
      "outputs": []
    },
    {
      "cell_type": "markdown",
      "source": [],
      "metadata": {
        "id": "b1Cvt-gaLHso"
      }
    },
    {
      "cell_type": "code",
      "source": [
        "plt.figure(figsize = (12,6))\n",
        "sn.kdeplot(sbi_df.gain, label = 'SBI BANK');\n",
        "sn.kdeplot(pnb_df.gain, label = 'PNB BANK');\n",
        "sn.kdeplot(canara_df.gain,label = 'CANARA BANK');\n",
        "sn.kdeplot(indianbank_df.gain,label ='INDIAN BANK');\n",
        "sn.kdeplot(unionbank_df.gain,label = 'UNION BANK');\n",
        "plt.title('volatility of stock')\n",
        "plt.legend()"
      ],
      "metadata": {
        "colab": {
          "base_uri": "https://localhost:8080/",
          "height": 421
        },
        "id": "1n8m5ofnLGPi",
        "outputId": "c94558ca-ef1f-4843-d9b1-f51b5b3e6266"
      },
      "execution_count": 81,
      "outputs": [
        {
          "output_type": "execute_result",
          "data": {
            "text/plain": [
              "<matplotlib.legend.Legend at 0x7fd28004c9d0>"
            ]
          },
          "metadata": {},
          "execution_count": 81
        },
        {
          "output_type": "display_data",
          "data": {
            "text/plain": [
              "<Figure size 864x432 with 1 Axes>"
            ],
            "image/png": "[encoded data removed]"
          },
          "metadata": {
            "needs_background": "light"
          }
        }
      ]
    },
    {
      "cell_type": "markdown",
      "source": [
        "## Find out the probability of making 4% gain in each of the stock."
      ],
      "metadata": {
        "id": "aLyWu96qQ37m"
      }
    },
    {
      "cell_type": "markdown",
      "source": [
        "### SBI Bank - probability of a gain of 4%"
      ],
      "metadata": {
        "id": "peKUYbB2Rg2E"
      }
    },
    {
      "cell_type": "code",
      "source": [
        "1 - stats.norm.cdf(4.0,\n",
        "                   loc = sbi_df.gain.mean(),\n",
        "                   scale = sbi_df.gain.std())"
      ],
      "metadata": {
        "colab": {
          "base_uri": "https://localhost:8080/"
        },
        "id": "pj9Iqe0TRM1s",
        "outputId": "ad979cc2-2e29-4e40-89c0-bd266c673206"
      },
      "execution_count": 83,
      "outputs": [
        {
          "output_type": "execute_result",
          "data": {
            "text/plain": [
              "0.0033001252479318843"
            ]
          },
          "metadata": {},
          "execution_count": 83
        }
      ]
    },
    {
      "cell_type": "markdown",
      "source": [
        "### PNB Bank - probability of a gain of 4%"
      ],
      "metadata": {
        "id": "UrSJl7HuSDGu"
      }
    },
    {
      "cell_type": "code",
      "source": [
        "1 - stats.norm.cdf(4.0,\n",
        "                   loc = pnb_df.gain.mean(),\n",
        "                   scale = pnb_df.gain.std())"
      ],
      "metadata": {
        "colab": {
          "base_uri": "https://localhost:8080/"
        },
        "id": "vJU7kZd9R-o0",
        "outputId": "ee0e64d9-938c-4643-8ab0-3829028d3804"
      },
      "execution_count": 84,
      "outputs": [
        {
          "output_type": "execute_result",
          "data": {
            "text/plain": [
              "0.0674437984219276"
            ]
          },
          "metadata": {},
          "execution_count": 84
        }
      ]
    },
    {
      "cell_type": "markdown",
      "source": [
        "### canara Bank - probability of a gain of 4%"
      ],
      "metadata": {
        "id": "125YYMdwSfqE"
      }
    },
    {
      "cell_type": "code",
      "source": [
        "1 - stats.norm.cdf(4.0,\n",
        "                   loc = canara_df.gain.mean(),\n",
        "                   scale = canara_df.gain.std())"
      ],
      "metadata": {
        "colab": {
          "base_uri": "https://localhost:8080/"
        },
        "id": "IEh3C33hSaSk",
        "outputId": "a05b223e-44d6-49d1-c284-a7699f8caa35"
      },
      "execution_count": 85,
      "outputs": [
        {
          "output_type": "execute_result",
          "data": {
            "text/plain": [
              "0.027190033117045376"
            ]
          },
          "metadata": {},
          "execution_count": 85
        }
      ]
    },
    {
      "cell_type": "markdown",
      "source": [
        "### indian Bank - probability of a gain of 4%\n"
      ],
      "metadata": {
        "id": "uNgk4Hc1TFVr"
      }
    },
    {
      "cell_type": "code",
      "source": [
        "1 - stats.norm.cdf(4.0,\n",
        "                   loc = indianbank_df.gain.mean(),\n",
        "                   scale = indianbank_df.gain.std())"
      ],
      "metadata": {
        "colab": {
          "base_uri": "https://localhost:8080/"
        },
        "id": "hUZgPhm2TArQ",
        "outputId": "96c8c2fa-865e-4772-f60f-12ab896f86e2"
      },
      "execution_count": 87,
      "outputs": [
        {
          "output_type": "execute_result",
          "data": {
            "text/plain": [
              "0.07181680231006515"
            ]
          },
          "metadata": {},
          "execution_count": 87
        }
      ]
    },
    {
      "cell_type": "markdown",
      "source": [
        "### UNION Bank - probability of a gain of 4%"
      ],
      "metadata": {
        "id": "2rEjq3X5Tlv8"
      }
    },
    {
      "cell_type": "code",
      "source": [
        "1-stats.norm.cdf(4.0,\n",
        "                 loc = unionbank_df.gain.mean(),\n",
        "                 scale = unionbank_df.gain.std())\n"
      ],
      "metadata": {
        "colab": {
          "base_uri": "https://localhost:8080/"
        },
        "id": "cQXwMi_eTdh0",
        "outputId": "d422a2ff-6511-475a-b1e2-62a2534bbde8"
      },
      "execution_count": 88,
      "outputs": [
        {
          "output_type": "execute_result",
          "data": {
            "text/plain": [
              "0.1510941775586283"
            ]
          },
          "metadata": {},
          "execution_count": 88
        }
      ]
    },
    {
      "cell_type": "code",
      "source": [],
      "metadata": {
        "id": "JE6vVq8VT-1T"
      },
      "execution_count": null,
      "outputs": []
    }
  ]
}