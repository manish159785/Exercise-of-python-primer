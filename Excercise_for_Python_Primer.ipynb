{
  "nbformat": 4,
  "nbformat_minor": 0,
  "metadata": {
    "colab": {
      "provenance": []
    },
    "kernelspec": {
      "name": "python3",
      "display_name": "Python 3"
    },
    "language_info": {
      "name": "python"
    }
  },
  "cells": [
    {
      "cell_type": "markdown",
      "source": [
        "## *Excercise* 1\n",
        "\n",
        "Ex1: Participant Exercise\n",
        "Define two variables called called age and income assign values 30 and 50000.0 respectively\n",
        "\n",
        "Write a print statement using f-string to print the output as following:\n",
        "\n",
        "\"Age is: 30 Years and Income is: INR 50000.0\"\n",
        "\n",
        "Write an if-else condition\n",
        "\n",
        "if age is more than 25 and less than 40 years and income is more than 30000.0 then set a variable named \"approved\" to True or set to False."
      ],
      "metadata": {
        "id": "zwfGzq-NGgU9"
      }
    },
    {
      "cell_type": "markdown",
      "source": [],
      "metadata": {
        "id": "K9RhNcoSGeBM"
      }
    },
    {
      "cell_type": "code",
      "source": [
        "age = 30\n",
        "income = 50000.0\n",
        "print(f\"age is :{age} years and income is :INR {income}\")\n",
        "if age > 25 and age < 40 and income > 30000.0:\n",
        "  approved = \"True\"\n",
        "else :\n",
        "  approved = \"False\""
      ],
      "metadata": {
        "colab": {
          "base_uri": "https://localhost:8080/"
        },
        "id": "3pzK1XW8G5x0",
        "outputId": "39be6317-3bf1-4b85-90f3-1603a9585a5e"
      },
      "execution_count": 1,
      "outputs": [
        {
          "output_type": "stream",
          "name": "stdout",
          "text": [
            "age is :30 years and income is :INR 50000.0\n"
          ]
        }
      ]
    },
    {
      "cell_type": "markdown",
      "source": [
        "Ex2: Participant Exercise\n",
        "Write a function\n",
        "named getAgeGroup\n",
        "which takes a paramter age\n",
        "the default value of the age is 25\n",
        "it returns the age group as either \"young\" or \"adult\" or 'mid-age\" or \"old\" based on age\n",
        "if age < 20, then return young\n",
        "if age >= 20, but < 35 then adult\n",
        "if age >= 35, but < 55 then mid-age\n",
        "if age > 55 then old\n",
        "Invoke the function with different ages and test"
      ],
      "metadata": {
        "id": "X1_Fvud9ItUK"
      }
    },
    {
      "cell_type": "code",
      "source": [
        "def getAgeGroup( age=25):\n",
        "  if age < 20:\n",
        "    return \"young\"\n",
        "  elif age >=20 and age < 35 :\n",
        "    return \"adult\"\n",
        "  elif age >=35 and age < 55 :\n",
        "     return \"mid-age\"\n",
        "  else:\n",
        "    return \"old\"\n",
        "\n",
        "print(getAgeGroup())\n",
        "print(getAgeGroup(15))\n",
        "print(getAgeGroup(25))\n",
        "print(getAgeGroup(45))\n",
        "print(getAgeGroup(60))\n"
      ],
      "metadata": {
        "colab": {
          "base_uri": "https://localhost:8080/"
        },
        "id": "EY5ntNpaIzF3",
        "outputId": "5abc12f6-c98f-4966-b937-4b6c10e73312"
      },
      "execution_count": 9,
      "outputs": [
        {
          "output_type": "stream",
          "name": "stdout",
          "text": [
            "adult\n",
            "young\n",
            "adult\n",
            "mid-age\n",
            "old\n"
          ]
        }
      ]
    },
    {
      "cell_type": "markdown",
      "source": [],
      "metadata": {
        "id": "R0p8zH-6LY-P"
      }
    },
    {
      "cell_type": "markdown",
      "source": [
        "Ex3: Participant Exercise\n",
        "Creata a list with the following 10 student names\n",
        "\n",
        "Krishnaa J., Jyoti Adhya, C. Haradas, Korravai Parikh, Saurandhri Vaknis, Sambridhi Holkar, Sita Padhy, Ambika Sanyal, Nehal Vadekar, Sarama Upalekar\n",
        "Create two lists named \"math_scores\" and \"science_scores\"\n",
        "\n",
        "Populate the above two variables with randomly generated numbers between 20 and 90\n",
        "\n",
        "Both the scores should have exactly 10 items only. Assume that the names and scores are mapped in the same sequence.\n",
        "\n",
        "Write a function which takes math and science score of each individual returns the total score and grade\n",
        "\n",
        "Grade is Pass if both the scores are greater than equal to 50\n",
        "Grade is Fail if any one of the scores is less than 50\n",
        "The function should return a tuple with total score and grade e.g. (110, \"Pass\")\n",
        "Iterate through the student names and invoke the above function\n",
        "\n",
        "Store all information in a dictionary with names as keys and results (tuple with total score and grade) as values.\n",
        "\n",
        "Print the dictionary"
      ],
      "metadata": {
        "id": "75512xJHLmdp"
      }
    },
    {
      "cell_type": "code",
      "source": [
        "from random import randint\n",
        "def checkScores(name, math, science):\n",
        "  total_scores = math + science\n",
        "  if math >= 50 and science >=50:\n",
        "    return (total_scores, \"Pass\")\n",
        "\n",
        "  return (total_scores, \"Fail\")"
      ],
      "metadata": {
        "id": "Ne4FrsGTLoqq"
      },
      "execution_count": 10,
      "outputs": []
    },
    {
      "cell_type": "code",
      "source": [
        "student_names = [\"Krishnaa J.\", \"Jyoti Adhya\", \"C. Haradas\", \"Korravai Parikh\", \"Saurandhri Vaknis\", \"Sambridhi Holkar\", \"Sita Padhy\", \"Ambika Sanyal\", \"Nehal Vadekar\", \"Sarama Upalekar\"]\n",
        "math_scores = []\n",
        "science_scores = []\n",
        "ans = {}"
      ],
      "metadata": {
        "id": "fEV3_2u9L-G5"
      },
      "execution_count": 11,
      "outputs": []
    },
    {
      "cell_type": "code",
      "source": [
        "for i in range(0, len(student_names)):\n",
        "  math_scores.append(randint(20, 90))\n",
        "  science_scores.append(randint(20, 90))\n",
        "\n",
        "for i in range(0, len(student_names)):\n",
        "  ans[student_names[i]] = checkScores(student_names[i], math_scores[i], science_scores[i])\n",
        "\n",
        "print(ans)"
      ],
      "metadata": {
        "colab": {
          "base_uri": "https://localhost:8080/"
        },
        "id": "8a2ZqGNLMAoD",
        "outputId": "5eb97837-9bac-4aba-c470-6416d670c6a8"
      },
      "execution_count": 12,
      "outputs": [
        {
          "output_type": "stream",
          "name": "stdout",
          "text": [
            "{'Krishnaa J.': (115, 'Pass'), 'Jyoti Adhya': (144, 'Pass'), 'C. Haradas': (100, 'Fail'), 'Korravai Parikh': (158, 'Pass'), 'Saurandhri Vaknis': (110, 'Fail'), 'Sambridhi Holkar': (151, 'Pass'), 'Sita Padhy': (177, 'Pass'), 'Ambika Sanyal': (142, 'Pass'), 'Nehal Vadekar': (114, 'Fail'), 'Sarama Upalekar': (107, 'Fail')}\n"
          ]
        }
      ]
    },
    {
      "cell_type": "code",
      "source": [],
      "metadata": {
        "id": "mne2WotaMDzE"
      },
      "execution_count": null,
      "outputs": []
    },
    {
      "cell_type": "markdown",
      "source": [
        "Ex4: Participant Exercise\n",
        "1.The variable daily_prices contains information about a stock open and close prices for 10 days\n",
        "2.Calculate the daily gains and create a dictionary which stores the date and daily gains as shown below\n",
        "3.The gain should be calculated as (Close - Open) *100 / Open.\n",
        "4.The gain value should be rounded to 2 decimal places\n",
        "5.Accomplish the above task using both the approaches: List comprehension and map() function"
      ],
      "metadata": {
        "id": "T0_tUrZZMZPR"
      }
    },
    {
      "cell_type": "code",
      "source": [
        "daily_prices = [ {'Date': '17-05-2016', 'Open': 1218.0, 'Close': 1214.05005},\n",
        "                 {'Date': '16-05-2016', 'Open': 1210.0, 'Close': 1213.94995},\n",
        "                 {'Date': '13-05-2016', 'Open': 1207.0, 'Close': 1206.69995},\n",
        "                 {'Date': '12-05-2016', 'Open': 1208.94995, 'Close': 1210.19995},\n",
        "                 {'Date': '11-05-2016', 'Open': 1205.0, 'Close': 1201.05005},\n",
        "                 {'Date': '10-05-2016', 'Open': 1200.0, 'Close': 1212.55005},\n",
        "                 {'Date': '09-05-2016', 'Open': 1190.0, 'Close': 1199.1500199999998},\n",
        "                 {'Date': '06-05-2016', 'Open': 1192.0, 'Close': 1181.44995},\n",
        "                 {'Date': '05-05-2016', 'Open': 1191.0, 'Close': 1192.44995},\n",
        "                 {'Date': '04-05-2016', 'Open': 1191.0, 'Close': 1189.55005} ]"
      ],
      "metadata": {
        "id": "pFlZ_WMAMag_"
      },
      "execution_count": 13,
      "outputs": []
    },
    {
      "cell_type": "code",
      "source": [
        "def dailygains(d):\n",
        "  ans = {}\n",
        "  gain = round((d[\"Close\"] - d[\"Open\"]) * 100/d[\"Open\"],2)\n",
        "  ans[\"Date\"] = d[\"Date\"]\n",
        "  ans[\"Gain\"] = gain\n",
        "  return ans\n",
        "\n",
        "  # Using list comprehension\n",
        "ans_list = [dailygains(daily_price) for daily_price in daily_prices]\n",
        "print(ans_list)"
      ],
      "metadata": {
        "colab": {
          "base_uri": "https://localhost:8080/"
        },
        "id": "3GXJEZS3NN-L",
        "outputId": "56f5a267-8eca-496b-8f2c-aff9493b1675"
      },
      "execution_count": 14,
      "outputs": [
        {
          "output_type": "stream",
          "name": "stdout",
          "text": [
            "[{'Date': '17-05-2016', 'Gain': -0.32}, {'Date': '16-05-2016', 'Gain': 0.33}, {'Date': '13-05-2016', 'Gain': -0.02}, {'Date': '12-05-2016', 'Gain': 0.1}, {'Date': '11-05-2016', 'Gain': -0.33}, {'Date': '10-05-2016', 'Gain': 1.05}, {'Date': '09-05-2016', 'Gain': 0.77}, {'Date': '06-05-2016', 'Gain': -0.89}, {'Date': '05-05-2016', 'Gain': 0.12}, {'Date': '04-05-2016', 'Gain': -0.12}]\n"
          ]
        }
      ]
    },
    {
      "cell_type": "code",
      "source": [
        "daily_prices = [ {'Date': '17-05-2016', 'Open': 1218.0, 'Close': 1214.05005},\n",
        "                 {'Date': '16-05-2016', 'Open': 1210.0, 'Close': 1213.94995},\n",
        "                 {'Date': '13-05-2016', 'Open': 1207.0, 'Close': 1206.69995},\n",
        "                 {'Date': '12-05-2016', 'Open': 1208.94995, 'Close': 1210.19995},\n",
        "                 {'Date': '11-05-2016', 'Open': 1205.0, 'Close': 1201.05005},\n",
        "                 {'Date': '10-05-2016', 'Open': 1200.0, 'Close': 1212.55005},\n",
        "                 {'Date': '09-05-2016', 'Open': 1190.0, 'Close': 1199.1500199999998},\n",
        "                 {'Date': '06-05-2016', 'Open': 1192.0, 'Close': 1181.44995},\n",
        "                 {'Date': '05-05-2016', 'Open': 1191.0, 'Close': 1192.44995},\n",
        "                 {'Date': '04-05-2016', 'Open': 1191.0, 'Close': 1189.55005} ]\n",
        "\n",
        "def dailygains(d):\n",
        "  ans = {}\n",
        "  gain = round((d[\"Close\"] - d[\"Open\"])*100/d[\"Open\"], 2)\n",
        "  ans[\"Date\"] = d[\"Date\"]\n",
        "  ans[\"Gain\"] = gain\n",
        "  return ans\n",
        "\n",
        "# Using map\n",
        "ans_list2 = list(map(dailygains, daily_prices))\n",
        "print(ans_list2)"
      ],
      "metadata": {
        "colab": {
          "base_uri": "https://localhost:8080/"
        },
        "id": "WbW_9KlONWgG",
        "outputId": "a332f81f-6748-4592-f912-061c5c1b3e86"
      },
      "execution_count": 15,
      "outputs": [
        {
          "output_type": "stream",
          "name": "stdout",
          "text": [
            "[{'Date': '17-05-2016', 'Gain': -0.32}, {'Date': '16-05-2016', 'Gain': 0.33}, {'Date': '13-05-2016', 'Gain': -0.02}, {'Date': '12-05-2016', 'Gain': 0.1}, {'Date': '11-05-2016', 'Gain': -0.33}, {'Date': '10-05-2016', 'Gain': 1.05}, {'Date': '09-05-2016', 'Gain': 0.77}, {'Date': '06-05-2016', 'Gain': -0.89}, {'Date': '05-05-2016', 'Gain': 0.12}, {'Date': '04-05-2016', 'Gain': -0.12}]\n"
          ]
        }
      ]
    },
    {
      "cell_type": "code",
      "source": [],
      "metadata": {
        "id": "DlmMfvWvN1ZR"
      },
      "execution_count": null,
      "outputs": []
    }
  ]
}